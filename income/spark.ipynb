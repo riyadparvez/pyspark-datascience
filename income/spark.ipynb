{
 "cells": [
  {
   "cell_type": "code",
   "execution_count": 1,
   "metadata": {},
   "outputs": [],
   "source": [
    "from pyspark.sql import SparkSession\n",
    "spark = SparkSession.builder.appName('income').getOrCreate()"
   ]
  },
  {
   "cell_type": "code",
   "execution_count": 2,
   "metadata": {},
   "outputs": [
    {
     "name": "stdout",
     "output_type": "stream",
     "text": [
      "root\n",
      " |-- age: integer (nullable = true)\n",
      " |-- workclass: string (nullable = true)\n",
      " |-- fnlwgt: double (nullable = true)\n",
      " |-- education: string (nullable = true)\n",
      " |-- education-num: double (nullable = true)\n",
      " |-- marital-status: string (nullable = true)\n",
      " |-- occupation: string (nullable = true)\n",
      " |-- relationship: string (nullable = true)\n",
      " |-- race: string (nullable = true)\n",
      " |-- sex: string (nullable = true)\n",
      " |-- capital-gain: double (nullable = true)\n",
      " |-- capital-loss: double (nullable = true)\n",
      " |-- hours-per-week: double (nullable = true)\n",
      " |-- native-country: string (nullable = true)\n",
      " |-- class: string (nullable = true)\n",
      "\n"
     ]
    }
   ],
   "source": [
    "from pyspark.sql.types import *\n",
    "\n",
    "# schema = StructType([\n",
    "#     StructField(\"age\", IntegerType(), True), \n",
    "#     StructField(\"workclass\", StringType(), True),\n",
    "#     StructField(\"fnlwgt\", FloatType(), True),\n",
    "#     StructField(\"education\", StringType(), True),\n",
    "#     StructField(\"education-num\", FloatType(), True),\n",
    "#     StructField(\"marital-status\", StringType(), True),\n",
    "#     StructField(\"occupation\", StringType(), True),\n",
    "#     StructField(\"relationship\", StringType(), True),\n",
    "#     StructField(\"race\", StringType(), True),\n",
    "#     StructField(\"sex\", StringType(), True),\n",
    "#     StructField(\"capital-gain\", FloatType(), True),\n",
    "#     StructField(\"capital-loss\", FloatType(), True),\n",
    "#     StructField(\"hours-per-week\", FloatType(), True),\n",
    "#     StructField(\"native-country\", StringType(), True),\n",
    "#     StructField(\"class\", StringType(), True)]\n",
    "# )\n",
    "\n",
    "# train = spark.read.csv('./adult.data.txt', schema=schema, inferSchema='true')\n",
    "\n",
    "headers = [\"age\", \"workclass\", \"fnlwgt\", \"education\", \"education-num\",\n",
    "           \"marital-status\", \"occupation\", \"relationship\", \"race\", \"sex\",\n",
    "           \"capital-gain\", \"capital-loss\", \"hours-per-week\", \"native-country\",\n",
    "           \"class\"]\n",
    "\n",
    "train = spark.read.csv('./adult.data.txt', inferSchema='true').toDF(*headers)\n",
    "train.printSchema()"
   ]
  },
  {
   "cell_type": "code",
   "execution_count": 3,
   "metadata": {},
   "outputs": [
    {
     "data": {
      "text/plain": [
       "32561"
      ]
     },
     "execution_count": 3,
     "metadata": {},
     "output_type": "execute_result"
    }
   ],
   "source": [
    "labelCol = 'class'\n",
    "train.count()"
   ]
  },
  {
   "cell_type": "markdown",
   "metadata": {},
   "source": [
    "# EDA"
   ]
  },
  {
   "cell_type": "code",
   "execution_count": 4,
   "metadata": {},
   "outputs": [
    {
     "name": "stdout",
     "output_type": "stream",
     "text": [
      "+------+-----+\n",
      "| class|count|\n",
      "+------+-----+\n",
      "|  >50K| 7841|\n",
      "| <=50K|24720|\n",
      "+------+-----+\n",
      "\n"
     ]
    }
   ],
   "source": [
    "train.groupby(labelCol).count().show()"
   ]
  },
  {
   "cell_type": "markdown",
   "metadata": {},
   "source": [
    "We can see there is a class imbalance problem in our training set."
   ]
  },
  {
   "cell_type": "markdown",
   "metadata": {},
   "source": []
  },
  {
   "cell_type": "code",
   "execution_count": 5,
   "metadata": {},
   "outputs": [
    {
     "data": {
      "text/plain": [
       "[]"
      ]
     },
     "execution_count": 5,
     "metadata": {},
     "output_type": "execute_result"
    }
   ],
   "source": [
    "from pyspark.sql.functions import col\n",
    "\n",
    "def findMissingValuesCols(df):\n",
    "    numRows = df.count()\n",
    "    nullCols = []\n",
    "    for column in df.columns:\n",
    "        c = df.filter(col(column).isNotNull()).count()\n",
    "        if c != numRows:\n",
    "            nullCols.append(c)\n",
    "    return nullCols\n",
    "\n",
    "findMissingValuesCols(train)"
   ]
  },
  {
   "cell_type": "code",
   "execution_count": 6,
   "metadata": {},
   "outputs": [
    {
     "name": "stdout",
     "output_type": "stream",
     "text": [
      "+---+\n",
      "|age|\n",
      "+---+\n",
      "| 31|\n",
      "| 85|\n",
      "| 65|\n",
      "| 53|\n",
      "| 78|\n",
      "| 34|\n",
      "| 81|\n",
      "| 28|\n",
      "| 76|\n",
      "| 27|\n",
      "| 26|\n",
      "| 44|\n",
      "| 22|\n",
      "| 47|\n",
      "| 52|\n",
      "| 86|\n",
      "| 40|\n",
      "| 20|\n",
      "| 57|\n",
      "| 54|\n",
      "+---+\n",
      "only showing top 20 rows\n",
      "\n"
     ]
    }
   ],
   "source": [
    "train.select('age').distinct().show()"
   ]
  },
  {
   "cell_type": "code",
   "execution_count": 7,
   "metadata": {},
   "outputs": [],
   "source": [
    "from pyspark.sql.types import DoubleType\n",
    "from pyspark.sql.functions import format_number\n",
    "\n",
    "def crosstabPercentage(df, col1, col2):\n",
    "    ctabDf = df.crosstab(col1, col2)\n",
    "    ctabCol = col1 + '_' + col2\n",
    "    ctabNewCol = col1 + col2.title()\n",
    "    ctabDf = ctabDf.withColumn(ctabNewCol, ctabDf[ctabCol])\\\n",
    "                                         .orderBy(ctabNewCol).drop(ctabCol)\n",
    "    # Strip extra whitespaces from column name\n",
    "    for column in ctabDf.columns:\n",
    "        columnStripped = column.strip()\n",
    "        if column != columnStripped:\n",
    "            ctabDf = ctabDf.withColumn(column.strip(), ctabDf[column])\\\n",
    "                                         .drop(column)\n",
    "\n",
    "    ctabDf = ctabDf.withColumn('percentage-of->50K', ctabDf['>50K']/(ctabDf['<=50K']+ctabDf['>50K'])*100)\n",
    "    return ctabDf\n"
   ]
  },
  {
   "cell_type": "code",
   "execution_count": 8,
   "metadata": {},
   "outputs": [
    {
     "name": "stdout",
     "output_type": "stream",
     "text": [
      "+-------------------+-----+----+------------------+\n",
      "|          raceClass|<=50K|>50K|percentage-of->50K|\n",
      "+-------------------+-----+----+------------------+\n",
      "|              Other|  246|  25|              9.23|\n",
      "| Amer-Indian-Eskimo|  275|  36|             11.58|\n",
      "|              Black| 2737| 387|             12.39|\n",
      "|              White|20699|7117|             25.59|\n",
      "| Asian-Pac-Islander|  763| 276|             26.56|\n",
      "+-------------------+-----+----+------------------+\n",
      "\n"
     ]
    }
   ],
   "source": [
    "df = crosstabPercentage(train, 'race', labelCol).orderBy('percentage-of->50K')\n",
    "df = df.orderBy('percentage-of->50K').withColumn('percentage-of->50K', \n",
    "                                    format_number(df['percentage-of->50K'], 2))\n",
    "df.show()"
   ]
  },
  {
   "cell_type": "code",
   "execution_count": 9,
   "metadata": {},
   "outputs": [
    {
     "name": "stdout",
     "output_type": "stream",
     "text": [
      "+--------+-----+----+------------------+\n",
      "|ageClass|<=50K|>50K|percentage-of->50K|\n",
      "+--------+-----+----+------------------+\n",
      "|      17|  395|   0|              0.00|\n",
      "|      18|  550|   0|              0.00|\n",
      "|      19|  710|   2|              0.28|\n",
      "|      20|  753|   0|              0.00|\n",
      "|      21|  717|   3|              0.42|\n",
      "|      22|  752|  13|              1.70|\n",
      "|      23|  865|  12|              1.37|\n",
      "|      24|  767|  31|              3.88|\n",
      "|      25|  788|  53|              6.30|\n",
      "|      26|  722|  63|              8.03|\n",
      "|      27|  754|  81|              9.70|\n",
      "|      28|  748| 119|             13.73|\n",
      "|      29|  679| 134|             16.48|\n",
      "|      30|  690| 171|             19.86|\n",
      "|      31|  705| 183|             20.61|\n",
      "|      32|  639| 189|             22.83|\n",
      "|      33|  684| 191|             21.83|\n",
      "|      34|  643| 243|             27.43|\n",
      "|      35|  659| 217|             24.77|\n",
      "|      36|  635| 263|             29.29|\n",
      "|      37|  566| 292|             34.03|\n",
      "|      38|  545| 282|             34.10|\n",
      "|      39|  538| 278|             34.07|\n",
      "|      40|  526| 268|             33.75|\n",
      "|      41|  529| 279|             34.53|\n",
      "|      42|  510| 270|             34.62|\n",
      "|      43|  497| 273|             35.45|\n",
      "|      44|  443| 281|             38.81|\n",
      "|      45|  446| 288|             39.24|\n",
      "|      46|  445| 292|             39.62|\n",
      "|      47|  420| 288|             40.68|\n",
      "|      48|  326| 217|             39.96|\n",
      "|      49|  371| 206|             35.70|\n",
      "|      50|  341| 261|             43.36|\n",
      "|      51|  353| 242|             40.67|\n",
      "|      52|  286| 192|             40.17|\n",
      "|      53|  275| 189|             40.73|\n",
      "|      54|  242| 173|             41.69|\n",
      "|      55|  273| 146|             34.84|\n",
      "|      56|  248| 118|             32.24|\n",
      "|      57|  227| 131|             36.59|\n",
      "|      58|  244| 122|             33.33|\n",
      "|      59|  222| 133|             37.46|\n",
      "|      60|  211| 101|             32.37|\n",
      "|      61|  204|  96|             32.00|\n",
      "|      62|  191|  67|             25.97|\n",
      "|      63|  171|  59|             25.65|\n",
      "|      64|  155|  53|             25.48|\n",
      "|      65|  135|  43|             24.16|\n",
      "|      66|  115|  35|             23.33|\n",
      "|      67|  114|  37|             24.50|\n",
      "|      68|   93|  27|             22.50|\n",
      "|      69|   87|  21|             19.44|\n",
      "|      70|   70|  19|             21.35|\n",
      "|      71|   56|  16|             22.22|\n",
      "|      72|   58|   9|             13.43|\n",
      "|      73|   54|  10|             15.62|\n",
      "|      74|   39|  12|             23.53|\n",
      "|      75|   38|   7|             15.56|\n",
      "|      76|   41|   5|             10.87|\n",
      "|      77|   24|   5|             17.24|\n",
      "|      78|   18|   5|             21.74|\n",
      "|      79|   13|   9|             40.91|\n",
      "|      80|   20|   2|              9.09|\n",
      "|      81|   17|   3|             15.00|\n",
      "|      82|   12|   0|              0.00|\n",
      "|      83|    4|   2|             33.33|\n",
      "|      84|    9|   1|             10.00|\n",
      "|      85|    3|   0|              0.00|\n",
      "|      86|    1|   0|              0.00|\n",
      "|      87|    1|   0|              0.00|\n",
      "|      88|    3|   0|              0.00|\n",
      "|      90|   35|   8|             18.60|\n",
      "+--------+-----+----+------------------+\n",
      "\n"
     ]
    }
   ],
   "source": [
    "df = crosstabPercentage(train, 'age', labelCol).orderBy('percentage-of->50K')\n",
    "df = df.orderBy('ageClass').withColumn('percentage-of->50K', \n",
    "                                    format_number(df['percentage-of->50K'], 2))\n",
    "df.show(df.count())"
   ]
  },
  {
   "cell_type": "code",
   "execution_count": 10,
   "metadata": {},
   "outputs": [
    {
     "name": "stdout",
     "output_type": "stream",
     "text": [
      "+--------+-----+----+------------------+\n",
      "|sexClass|<=50K|>50K|percentage-of->50K|\n",
      "+--------+-----+----+------------------+\n",
      "|  Female| 9592|1179|             10.95|\n",
      "|    Male|15128|6662|             30.57|\n",
      "+--------+-----+----+------------------+\n",
      "\n"
     ]
    }
   ],
   "source": [
    "df = crosstabPercentage(train, 'sex', labelCol)\n",
    "df = df.orderBy('percentage-of->50K').withColumn('percentage-of->50K', \n",
    "                                    format_number(df['percentage-of->50K'], 2))\n",
    "df.show()\n"
   ]
  },
  {
   "cell_type": "code",
   "execution_count": 11,
   "metadata": {},
   "outputs": [
    {
     "name": "stdout",
     "output_type": "stream",
     "text": [
      "+--------------+-----+----+------------------+\n",
      "|educationClass|<=50K|>50K|percentage-of->50K|\n",
      "+--------------+-----+----+------------------+\n",
      "|     Preschool|   51|   0|              0.00|\n",
      "|       1st-4th|  162|   6|              3.57|\n",
      "|       5th-6th|  317|  16|              4.80|\n",
      "|          11th| 1115|  60|              5.11|\n",
      "|           9th|  487|  27|              5.25|\n",
      "|       7th-8th|  606|  40|              6.19|\n",
      "|          10th|  871|  62|              6.65|\n",
      "|          12th|  400|  33|              7.62|\n",
      "|       HS-grad| 8826|1675|             15.95|\n",
      "|  Some-college| 5904|1387|             19.02|\n",
      "|    Assoc-acdm|  802| 265|             24.84|\n",
      "|     Assoc-voc| 1021| 361|             26.12|\n",
      "|     Bachelors| 3134|2221|             41.48|\n",
      "|       Masters|  764| 959|             55.66|\n",
      "|   Prof-school|  153| 423|             73.44|\n",
      "|     Doctorate|  107| 306|             74.09|\n",
      "+--------------+-----+----+------------------+\n",
      "\n"
     ]
    }
   ],
   "source": [
    "df = crosstabPercentage(train, 'education', labelCol).orderBy('percentage-of->50K')\n",
    "df = df.orderBy('percentage-of->50K').withColumn('percentage-of->50K', \n",
    "                                    format_number(df['percentage-of->50K'], 2))\n",
    "df.show()\n"
   ]
  },
  {
   "cell_type": "code",
   "execution_count": 12,
   "metadata": {},
   "outputs": [
    {
     "name": "stdout",
     "output_type": "stream",
     "text": [
      "+-------------------+-----+----+------------------+\n",
      "|education-numClassF|<=50K|>50K|percentage-of->50K|\n",
      "+-------------------+-----+----+------------------+\n",
      "|                1.0|   51|   0|              0.00|\n",
      "|                2.0|  162|   6|              3.57|\n",
      "|                3.0|  317|  16|              4.80|\n",
      "|                4.0|  606|  40|              6.19|\n",
      "|                5.0|  487|  27|              5.25|\n",
      "|                6.0|  871|  62|              6.65|\n",
      "|                7.0| 1115|  60|              5.11|\n",
      "|                8.0|  400|  33|              7.62|\n",
      "|                9.0| 8826|1675|             15.95|\n",
      "|               10.0| 5904|1387|             19.02|\n",
      "|               11.0| 1021| 361|             26.12|\n",
      "|               12.0|  802| 265|             24.84|\n",
      "|               13.0| 3134|2221|             41.48|\n",
      "|               14.0|  764| 959|             55.66|\n",
      "|               15.0|  153| 423|             73.44|\n",
      "|               16.0|  107| 306|             74.09|\n",
      "+-------------------+-----+----+------------------+\n",
      "\n"
     ]
    }
   ],
   "source": [
    "educationNumClass = crosstabPercentage(train, 'education-num', labelCol)\n",
    "educationNumClass = educationNumClass.withColumn('percentage-of->50K', \n",
    "                                    format_number(educationNumClass['percentage-of->50K'], 2))\n",
    "educationNumClass = educationNumClass.withColumn('education-numClassF', educationNumClass['education-numClass'].cast(DoubleType()))\\\n",
    "                                     .orderBy('education-numClassF').drop('education-numClass')\n",
    "cols = educationNumClass.columns\n",
    "cols.remove('education-numClassF')\n",
    "cols.insert(0, 'education-numClassF')\n",
    "educationNumClass = educationNumClass.select(cols)\n",
    "educationNumClass.show()\n"
   ]
  },
  {
   "cell_type": "code",
   "execution_count": 13,
   "metadata": {},
   "outputs": [
    {
     "name": "stdout",
     "output_type": "stream",
     "text": [
      "+-----------------------+-----+-----+-----+--------+--------+--------+----+-----------+----------+----------+----------+--------+--------+----------+------------+-------------+\n",
      "|education-num_education| 10th| 11th| 12th| 1st-4th| 5th-6th| 7th-8th| 9th| Assoc-acdm| Assoc-voc| Bachelors| Doctorate| HS-grad| Masters| Preschool| Prof-school| Some-college|\n",
      "+-----------------------+-----+-----+-----+--------+--------+--------+----+-----------+----------+----------+----------+--------+--------+----------+------------+-------------+\n",
      "|                    5.0|    0|    0|    0|       0|       0|       0| 514|          0|         0|         0|         0|       0|       0|         0|           0|            0|\n",
      "|                   10.0|    0|    0|    0|       0|       0|       0|   0|          0|         0|         0|         0|       0|       0|         0|           0|         7291|\n",
      "|                   14.0|    0|    0|    0|       0|       0|       0|   0|          0|         0|         0|         0|       0|    1723|         0|           0|            0|\n",
      "|                    1.0|    0|    0|    0|       0|       0|       0|   0|          0|         0|         0|         0|       0|       0|        51|           0|            0|\n",
      "|                    6.0|  933|    0|    0|       0|       0|       0|   0|          0|         0|         0|         0|       0|       0|         0|           0|            0|\n",
      "|                    9.0|    0|    0|    0|       0|       0|       0|   0|          0|         0|         0|         0|   10501|       0|         0|           0|            0|\n",
      "|                   13.0|    0|    0|    0|       0|       0|       0|   0|          0|         0|      5355|         0|       0|       0|         0|           0|            0|\n",
      "|                    2.0|    0|    0|    0|     168|       0|       0|   0|          0|         0|         0|         0|       0|       0|         0|           0|            0|\n",
      "|                   12.0|    0|    0|    0|       0|       0|       0|   0|       1067|         0|         0|         0|       0|       0|         0|           0|            0|\n",
      "|                    7.0|    0| 1175|    0|       0|       0|       0|   0|          0|         0|         0|         0|       0|       0|         0|           0|            0|\n",
      "|                    3.0|    0|    0|    0|       0|     333|       0|   0|          0|         0|         0|         0|       0|       0|         0|           0|            0|\n",
      "|                   16.0|    0|    0|    0|       0|       0|       0|   0|          0|         0|         0|       413|       0|       0|         0|           0|            0|\n",
      "|                   11.0|    0|    0|    0|       0|       0|       0|   0|          0|      1382|         0|         0|       0|       0|         0|           0|            0|\n",
      "|                    8.0|    0|    0|  433|       0|       0|       0|   0|          0|         0|         0|         0|       0|       0|         0|           0|            0|\n",
      "|                    4.0|    0|    0|    0|       0|       0|     646|   0|          0|         0|         0|         0|       0|       0|         0|           0|            0|\n",
      "|                   15.0|    0|    0|    0|       0|       0|       0|   0|          0|         0|         0|         0|       0|       0|         0|         576|            0|\n",
      "+-----------------------+-----+-----+-----+--------+--------+--------+----+-----------+----------+----------+----------+--------+--------+----------+------------+-------------+\n",
      "\n"
     ]
    }
   ],
   "source": [
    "train.crosstab('education-num', 'education').show()\n"
   ]
  },
  {
   "cell_type": "code",
   "execution_count": 14,
   "metadata": {},
   "outputs": [
    {
     "name": "stdout",
     "output_type": "stream",
     "text": [
      "+-----------------+-----+----+------------------+\n",
      "|   workclassClass|<=50K|>50K|percentage-of->50K|\n",
      "+-----------------+-----+----+------------------+\n",
      "|     Never-worked|    7|   0|              0.00|\n",
      "|      Without-pay|   14|   0|              0.00|\n",
      "|                ?| 1645| 191|             10.40|\n",
      "|          Private|17733|4963|             21.87|\n",
      "|        State-gov|  945| 353|             27.20|\n",
      "| Self-emp-not-inc| 1817| 724|             28.49|\n",
      "|        Local-gov| 1476| 617|             29.48|\n",
      "|      Federal-gov|  589| 371|             38.65|\n",
      "|     Self-emp-inc|  494| 622|             55.73|\n",
      "+-----------------+-----+----+------------------+\n",
      "\n"
     ]
    }
   ],
   "source": [
    "df = crosstabPercentage(train, 'workclass', labelCol).orderBy('percentage-of->50K')\n",
    "df = df.orderBy('percentage-of->50K').withColumn('percentage-of->50K', \n",
    "                                    format_number(df['percentage-of->50K'], 2))\n",
    "df.show()"
   ]
  },
  {
   "cell_type": "code",
   "execution_count": 21,
   "metadata": {},
   "outputs": [
    {
     "name": "stdout",
     "output_type": "stream",
     "text": [
      "+-----------------+-----+----+------------------+\n",
      "|capital-gainClass|<=50K|>50K|percentage-of->50K|\n",
      "+-----------------+-----+----+------------------+\n",
      "|           2062.0|    2|   0|              0.00|\n",
      "|           2036.0|    4|   0|              0.00|\n",
      "|           2050.0|    5|   0|              0.00|\n",
      "|           2009.0|    3|   0|              0.00|\n",
      "|           1455.0|    1|   0|              0.00|\n",
      "|           1848.0|    6|   0|              0.00|\n",
      "|           1831.0|    7|   0|              0.00|\n",
      "|           1151.0|    8|   0|              0.00|\n",
      "|            114.0|    6|   0|              0.00|\n",
      "|           1424.0|    3|   0|              0.00|\n",
      "|           1409.0|    7|   0|              0.00|\n",
      "|           1506.0|   15|   0|              0.00|\n",
      "|           1471.0|    7|   0|              0.00|\n",
      "|           1639.0|    1|   0|              0.00|\n",
      "|           1797.0|    7|   0|              0.00|\n",
      "|          10566.0|    6|   0|              0.00|\n",
      "|           1055.0|   25|   0|              0.00|\n",
      "|           1086.0|    4|   0|              0.00|\n",
      "|           1111.0|    1|   0|              0.00|\n",
      "|           1173.0|    3|   0|              0.00|\n",
      "+-----------------+-----+----+------------------+\n",
      "only showing top 20 rows\n",
      "\n"
     ]
    }
   ],
   "source": [
    "df = crosstabPercentage(train, 'capital-gain', labelCol).orderBy('percentage-of->50K')\n",
    "df = df.orderBy('percentage-of->50K').withColumn('percentage-of->50K', \n",
    "                                    format_number(df['percentage-of->50K'], 2))\n",
    "df.show()"
   ]
  },
  {
   "cell_type": "code",
   "execution_count": 15,
   "metadata": {},
   "outputs": [
    {
     "name": "stdout",
     "output_type": "stream",
     "text": [
      "pValues: [0.0,6.06621672894e-08,2.35683250693e-09,0.0,0.0073969884446,0.0,0.0,0.0350527043814,0.0,0.0,0.0,0.0,0.0698181823541,0.0,0.557536965197,0.0,0.0,0.0,0.0,7.77156117238e-16,0.0,1.11022302463e-16,4.56571558338e-10,0.0,0.0,0.0,0.0,0.0,1.65423230669e-14,0.0,0.0232540498908,0.0,0.0,1.91608792943e-05,0.0,0.0,0.0,0.000106491974853,0.0,0.0,3.53831313693e-06,3.89777829346e-07,2.10630402009e-11,0.0,0.0,0.0,0.0,0.0,0.0,0.0,0.0571069627625,2.18791128326e-07,0.0,4.9695980664e-10,0.0,0.583599768678,0.0263766737841,0.0274947609427,0.035664584289,0.000697135482754,0.000169808165581,0.000192370213887,0.609920556916,0.0398097636079,0.0133898002533,0.392700772659,0.600053722635,0.0419896247007,3.21813000361e-05,0.00144941904399,0.000281102267653,0.0070067904419,0.459306125248,0.000198893471588,0.0114124246819,0.0199611745997,0.00636173094476,0.0589039315422,0.0130248843455,0.0216336827864,0.0292840513559,0.658726919143,0.225228126282,0.709716719993,0.535731237288,0.166902075353,0.193152005373,0.197990667677,0.461796906847,0.209235051547,0.0350527043814,0.166892320718,0.932513756806,0.940634568087]\n",
      "degreesOfFreedom: [1, 1, 1, 1, 1, 1, 1, 1, 1, 1, 1, 1, 1, 1, 1, 1, 1, 1, 1, 1, 1, 1, 1, 1, 1, 1, 1, 1, 1, 1, 1, 1, 1, 1, 1, 1, 1, 1, 1, 1, 1, 1, 1, 1, 1, 1, 1, 1, 1, 1, 1, 1, 1, 1, 1, 1, 1, 1, 1, 1, 1, 1, 1, 1, 1, 1, 1, 1, 1, 1, 1, 1, 1, 1, 1, 1, 1, 1, 1, 1, 1, 1, 1, 1, 1, 1, 1, 1, 1, 1, 1, 1, 1, 1]\n",
      "statistics: [200.793589887,29.3421367846,35.6538367078,199.110092586,7.17394620049,633.341426191,114.777660311,4.44260594562,560.388944085,131.43992263,1060.67425441,992.282925618,3.28728967924,240.059662337,0.343986783302,159.721445758,115.367461409,781.337916458,101.264944377,65.0312009055,572.270539083,68.3793231794,38.8546221415,6439.08982006,3301.82347925,525.134985304,180.170132045,134.963674236,58.900678515,1124.85597496,5.14942666541,1503.19108573,263.65946159,18.270931789,795.941125556,156.82781756,201.071459099,15.0179756445,247.958729102,87.7905645446,21.4999856345,25.7442933531,44.8693395273,5236.7622718,1156.93332393,1700.55873406,664.511306642,494.728585268,236.497542783,258.429468895,3.61947292524,26.8595445957,1518.88681996,38.6891658781,128.82801297,0.300451085709,4.93115555855,4.85947126794,4.41307083751,11.4968683265,14.1387650226,13.9041795752,0.26029063217,4.22597403483,6.11686578535,0.730562958268,0.274914879236,4.1356223585,17.2844299494,10.1418337637,13.1922961809,7.27122742572,0.547585046171,13.8415086027,6.39993959435,5.41528673504,7.44487578696,3.56797979712,6.16572687344,5.27500846001,4.75083675643,0.19507373454,1.47074538045,0.138560064385,0.383508997707,1.9105509116,1.69341045683,1.6571344613,0.541535873405,1.57671122595,4.44260594562,1.91063876643,0.00717113691731,0.00554612594902]\n"
     ]
    }
   ],
   "source": [
    "from pyspark.ml.feature import OneHotEncoderEstimator, StringIndexer, VectorAssembler\n",
    "from pyspark.ml.stat import ChiSquareTest\n",
    "from pyspark.ml import Pipeline\n",
    "\n",
    "def autoIndexer(df, lableCol):\n",
    "    stringTypes = [dtype[0] for dtype in train.dtypes if dtype[1] == 'string']\n",
    "    indexedTypes = [stringType+'Indexed' for stringType in stringTypes]\n",
    "    try:\n",
    "        indexedTypes.remove(lableCol+'Indexed')\n",
    "    except:\n",
    "        pass\n",
    "    indexers = [StringIndexer(inputCol=stringType, outputCol=stringType+'Indexed') for stringType in stringTypes]\n",
    "    oheTypes = [indexedType+'OneHotEncoded' for indexedType in indexedTypes]\n",
    "    ohe = OneHotEncoderEstimator(inputCols=indexedTypes, outputCols=oheTypes)\n",
    "    assembler = VectorAssembler(inputCols=oheTypes, outputCol='assembled')\n",
    "    pipeline = Pipeline(stages=[*indexers, ohe, assembler])\n",
    "#     assembler = VectorAssembler(inputCols=indexedTypes, outputCol='assembled')\n",
    "#     pipeline = Pipeline(stages=[*indexers, assembler])\n",
    "    \n",
    "    indexed = pipeline.fit(df).transform(df)\n",
    "    return stringTypes, oheTypes, indexed\n",
    "\n",
    "_, indexedTypes, indexedDf = autoIndexer(train, labelCol)\n",
    "# The null hypothesis is that the occurrence of the outcomes is statistically independent.\n",
    "# In general, small p-values (1% to 5%) would cause you to reject the null hypothesis. \n",
    "# This very large p-value (92.65%) means that the null hypothesis should not be rejected.\n",
    "testResult = ChiSquareTest.test(indexedDf, 'assembled', 'classIndexed')\n",
    "r = testResult.head()\n",
    "print(\"pValues: \" + str(r.pValues))\n",
    "print(\"degreesOfFreedom: \" + str(r.degreesOfFreedom))\n",
    "print(\"statistics: \" + str(r.statistics))\n"
   ]
  },
  {
   "cell_type": "code",
   "execution_count": 16,
   "metadata": {},
   "outputs": [
    {
     "data": {
      "text/plain": [
       "DataFrame[pValues: vector, degreesOfFreedom: array<int>, statistics: vector]"
      ]
     },
     "execution_count": 16,
     "metadata": {},
     "output_type": "execute_result"
    }
   ],
   "source": [
    "testResult"
   ]
  },
  {
   "cell_type": "code",
   "execution_count": 17,
   "metadata": {},
   "outputs": [
    {
     "name": "stdout",
     "output_type": "stream",
     "text": [
      "+--------------------+\n",
      "|            features|\n",
      "+--------------------+\n",
      "|[1.0,0.0,3.0,1.0,...|\n",
      "+--------------------+\n",
      "\n"
     ]
    }
   ],
   "source": [
    "from pyspark.ml.linalg import Vectors\n",
    "\n",
    "df = spark.createDataFrame([(Vectors.dense(1.0, 0.0, 3.0), \n",
    "                             Vectors.dense(1.0, 0.0, 3.0), \n",
    "                             Vectors.dense(1.0, 0.0, 3.0))], \n",
    "                           [\"a\", \"b\", \"c\"])\n",
    "vecAssembler = VectorAssembler(inputCols=[\"a\", \"b\", \"c\"], outputCol=\"features\")\n",
    "df = vecAssembler.transform(df)\n",
    "df.select(\"features\").show()"
   ]
  },
  {
   "cell_type": "code",
   "execution_count": 18,
   "metadata": {},
   "outputs": [
    {
     "name": "stdout",
     "output_type": "stream",
     "text": [
      "+---+-----------------+--------+-------------+-------------+--------------------+------------------+--------------+-------------------+-------+------------+------------+--------------+--------------+------+----------------+----------------+---------------------+-----------------+-------------------+-----------+----------+---------------------+------------+\n",
      "|age|        workclass|  fnlwgt|    education|education-num|      marital-status|        occupation|  relationship|               race|    sex|capital-gain|capital-loss|hours-per-week|native-country| class|workclassIndexed|educationIndexed|marital-statusIndexed|occupationIndexed|relationshipIndexed|raceIndexed|sexIndexed|native-countryIndexed|classIndexed|\n",
      "+---+-----------------+--------+-------------+-------------+--------------------+------------------+--------------+-------------------+-------+------------+------------+--------------+--------------+------+----------------+----------------+---------------------+-----------------+-------------------+-----------+----------+---------------------+------------+\n",
      "| 39|        State-gov| 77516.0|    Bachelors|         13.0|       Never-married|      Adm-clerical| Not-in-family|              White|   Male|      2174.0|         0.0|          40.0| United-States| <=50K|             4.0|             2.0|                  1.0|              3.0|                1.0|        0.0|       0.0|                  0.0|         0.0|\n",
      "| 50| Self-emp-not-inc| 83311.0|    Bachelors|         13.0|  Married-civ-spouse|   Exec-managerial|       Husband|              White|   Male|         0.0|         0.0|          13.0| United-States| <=50K|             1.0|             2.0|                  0.0|              2.0|                0.0|        0.0|       0.0|                  0.0|         0.0|\n",
      "| 38|          Private|215646.0|      HS-grad|          9.0|            Divorced| Handlers-cleaners| Not-in-family|              White|   Male|         0.0|         0.0|          40.0| United-States| <=50K|             0.0|             0.0|                  2.0|              9.0|                1.0|        0.0|       0.0|                  0.0|         0.0|\n",
      "| 53|          Private|234721.0|         11th|          7.0|  Married-civ-spouse| Handlers-cleaners|       Husband|              Black|   Male|         0.0|         0.0|          40.0| United-States| <=50K|             0.0|             5.0|                  0.0|              9.0|                0.0|        1.0|       0.0|                  0.0|         0.0|\n",
      "| 28|          Private|338409.0|    Bachelors|         13.0|  Married-civ-spouse|    Prof-specialty|          Wife|              Black| Female|         0.0|         0.0|          40.0|          Cuba| <=50K|             0.0|             2.0|                  0.0|              0.0|                4.0|        1.0|       1.0|                  9.0|         0.0|\n",
      "| 37|          Private|284582.0|      Masters|         14.0|  Married-civ-spouse|   Exec-managerial|          Wife|              White| Female|         0.0|         0.0|          40.0| United-States| <=50K|             0.0|             3.0|                  0.0|              2.0|                4.0|        0.0|       1.0|                  0.0|         0.0|\n",
      "| 49|          Private|160187.0|          9th|          5.0| Married-spouse-a...|     Other-service| Not-in-family|              Black| Female|         0.0|         0.0|          16.0|       Jamaica| <=50K|             0.0|            10.0|                  5.0|              5.0|                1.0|        1.0|       1.0|                 11.0|         0.0|\n",
      "| 52| Self-emp-not-inc|209642.0|      HS-grad|          9.0|  Married-civ-spouse|   Exec-managerial|       Husband|              White|   Male|         0.0|         0.0|          45.0| United-States|  >50K|             1.0|             0.0|                  0.0|              2.0|                0.0|        0.0|       0.0|                  0.0|         1.0|\n",
      "| 31|          Private| 45781.0|      Masters|         14.0|       Never-married|    Prof-specialty| Not-in-family|              White| Female|     14084.0|         0.0|          50.0| United-States|  >50K|             0.0|             3.0|                  1.0|              0.0|                1.0|        0.0|       1.0|                  0.0|         1.0|\n",
      "| 42|          Private|159449.0|    Bachelors|         13.0|  Married-civ-spouse|   Exec-managerial|       Husband|              White|   Male|      5178.0|         0.0|          40.0| United-States|  >50K|             0.0|             2.0|                  0.0|              2.0|                0.0|        0.0|       0.0|                  0.0|         1.0|\n",
      "| 37|          Private|280464.0| Some-college|         10.0|  Married-civ-spouse|   Exec-managerial|       Husband|              Black|   Male|         0.0|         0.0|          80.0| United-States|  >50K|             0.0|             1.0|                  0.0|              2.0|                0.0|        1.0|       0.0|                  0.0|         1.0|\n",
      "| 30|        State-gov|141297.0|    Bachelors|         13.0|  Married-civ-spouse|    Prof-specialty|       Husband| Asian-Pac-Islander|   Male|         0.0|         0.0|          40.0|         India|  >50K|             4.0|             2.0|                  0.0|              0.0|                0.0|        2.0|       0.0|                  8.0|         1.0|\n",
      "| 23|          Private|122272.0|    Bachelors|         13.0|       Never-married|      Adm-clerical|     Own-child|              White| Female|         0.0|         0.0|          30.0| United-States| <=50K|             0.0|             2.0|                  1.0|              3.0|                2.0|        0.0|       1.0|                  0.0|         0.0|\n",
      "| 32|          Private|205019.0|   Assoc-acdm|         12.0|       Never-married|             Sales| Not-in-family|              Black|   Male|         0.0|         0.0|          50.0| United-States| <=50K|             0.0|             6.0|                  1.0|              4.0|                1.0|        1.0|       0.0|                  0.0|         0.0|\n",
      "| 40|          Private|121772.0|    Assoc-voc|         11.0|  Married-civ-spouse|      Craft-repair|       Husband| Asian-Pac-Islander|   Male|         0.0|         0.0|          40.0|             ?|  >50K|             0.0|             4.0|                  0.0|              1.0|                0.0|        2.0|       0.0|                  2.0|         1.0|\n",
      "| 34|          Private|245487.0|      7th-8th|          4.0|  Married-civ-spouse|  Transport-moving|       Husband| Amer-Indian-Eskimo|   Male|         0.0|         0.0|          45.0|        Mexico| <=50K|             0.0|             8.0|                  0.0|              8.0|                0.0|        3.0|       0.0|                  1.0|         0.0|\n",
      "| 25| Self-emp-not-inc|176756.0|      HS-grad|          9.0|       Never-married|   Farming-fishing|     Own-child|              White|   Male|         0.0|         0.0|          35.0| United-States| <=50K|             1.0|             0.0|                  1.0|             10.0|                2.0|        0.0|       0.0|                  0.0|         0.0|\n",
      "| 32|          Private|186824.0|      HS-grad|          9.0|       Never-married| Machine-op-inspct|     Unmarried|              White|   Male|         0.0|         0.0|          40.0| United-States| <=50K|             0.0|             0.0|                  1.0|              6.0|                3.0|        0.0|       0.0|                  0.0|         0.0|\n",
      "| 38|          Private| 28887.0|         11th|          7.0|  Married-civ-spouse|             Sales|       Husband|              White|   Male|         0.0|         0.0|          50.0| United-States| <=50K|             0.0|             5.0|                  0.0|              4.0|                0.0|        0.0|       0.0|                  0.0|         0.0|\n",
      "| 43| Self-emp-not-inc|292175.0|      Masters|         14.0|            Divorced|   Exec-managerial|     Unmarried|              White| Female|         0.0|         0.0|          45.0| United-States|  >50K|             1.0|             3.0|                  2.0|              2.0|                3.0|        0.0|       1.0|                  0.0|         1.0|\n",
      "+---+-----------------+--------+-------------+-------------+--------------------+------------------+--------------+-------------------+-------+------------+------------+--------------+--------------+------+----------------+----------------+---------------------+-----------------+-------------------+-----------+----------+---------------------+------------+\n",
      "only showing top 20 rows\n",
      "\n"
     ]
    }
   ],
   "source": [
    "from pyspark.ml.feature import StringIndexer\n",
    "from pyspark.ml import Pipeline\n",
    "\n",
    "stringTypes = [dtype[0] for dtype in train.dtypes if dtype[1] == 'string']\n",
    "indexedTypes = [stringType+'Indexed' for stringType in stringTypes]\n",
    "\n",
    "indexers = [StringIndexer(inputCol=stringType, outputCol=stringType+'Indexed') for stringType in stringTypes]\n",
    "pipeline = Pipeline(stages=indexers)\n",
    "train = pipeline.fit(train).transform(train)\n",
    "train.show()"
   ]
  },
  {
   "cell_type": "code",
   "execution_count": 19,
   "metadata": {},
   "outputs": [
    {
     "name": "stdout",
     "output_type": "stream",
     "text": [
      "root\n",
      " |-- age: integer (nullable = true)\n",
      " |-- workclass: string (nullable = true)\n",
      " |-- fnlwgt: double (nullable = true)\n",
      " |-- education: string (nullable = true)\n",
      " |-- education-num: double (nullable = true)\n",
      " |-- marital-status: string (nullable = true)\n",
      " |-- occupation: string (nullable = true)\n",
      " |-- relationship: string (nullable = true)\n",
      " |-- race: string (nullable = true)\n",
      " |-- sex: string (nullable = true)\n",
      " |-- capital-gain: double (nullable = true)\n",
      " |-- capital-loss: double (nullable = true)\n",
      " |-- hours-per-week: double (nullable = true)\n",
      " |-- native-country: string (nullable = true)\n",
      " |-- class: string (nullable = true)\n",
      " |-- workclassIndexed: double (nullable = false)\n",
      " |-- educationIndexed: double (nullable = false)\n",
      " |-- marital-statusIndexed: double (nullable = false)\n",
      " |-- occupationIndexed: double (nullable = false)\n",
      " |-- relationshipIndexed: double (nullable = false)\n",
      " |-- raceIndexed: double (nullable = false)\n",
      " |-- sexIndexed: double (nullable = false)\n",
      " |-- native-countryIndexed: double (nullable = false)\n",
      " |-- classIndexed: double (nullable = false)\n",
      "\n"
     ]
    }
   ],
   "source": [
    "train.printSchema()"
   ]
  },
  {
   "cell_type": "code",
   "execution_count": 20,
   "metadata": {},
   "outputs": [
    {
     "data": {
      "text/plain": [
       "DataFrame[age: int, workclass: string, fnlwgt: double, education: string, education-num: double, marital-status: string, occupation: string, relationship: string, race: string, sex: string, capital-gain: double, capital-loss: double, hours-per-week: double, native-country: string, class: string, workclassIndexed: double, educationIndexed: double, marital-statusIndexed: double, occupationIndexed: double, relationshipIndexed: double, raceIndexed: double, sexIndexed: double, native-countryIndexed: double, classIndexed: double, workclassIndexedOneHotEncoded: vector, raceIndexedOneHotEncoded: vector, occupationIndexedOneHotEncoded: vector, relationshipIndexedOneHotEncoded: vector, educationIndexedOneHotEncoded: vector, native-countryIndexedOneHotEncoded: vector, marital-statusIndexedOneHotEncoded: vector, sexIndexedOneHotEncoded: vector, classIndexedOneHotEncoded: vector]"
      ]
     },
     "execution_count": 20,
     "metadata": {},
     "output_type": "execute_result"
    }
   ],
   "source": [
    "from pyspark.ml.feature import OneHotEncoderEstimator, VectorAssembler\n",
    "\n",
    "oheTypes = [indexedType+'OneHotEncoded' for indexedType in indexedTypes]\n",
    "ohe = OneHotEncoderEstimator(inputCols=indexedTypes, outputCols=oheTypes)\n",
    "assembler = VectorAssembler(inputCols=oheTypes, outputCol='assembled')\n",
    "pipeline = Pipeline(stages=[])\n",
    "train = ohe.fit(train).transform(train)\n",
    "train"
   ]
  }
 ],
 "metadata": {
  "kernelspec": {
   "display_name": "Python 3",
   "language": "python",
   "name": "python3"
  },
  "language_info": {
   "codemirror_mode": {
    "name": "ipython",
    "version": 3
   },
   "file_extension": ".py",
   "mimetype": "text/x-python",
   "name": "python",
   "nbconvert_exporter": "python",
   "pygments_lexer": "ipython3",
   "version": "3.6.2"
  }
 },
 "nbformat": 4,
 "nbformat_minor": 2
}
