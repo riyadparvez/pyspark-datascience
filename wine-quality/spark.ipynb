{
 "cells": [
  {
   "cell_type": "code",
   "execution_count": null,
   "metadata": {},
   "outputs": [],
   "source": [
    "import os.path\n",
    "import urllib.request\n",
    "import gzip\n",
    "import shutil\n",
    "\n",
    "if not os.path.exists('covtype.data.gz'):\n",
    "    urllib.request.urlretrieve('http://archive.ics.uci.edu/ml/machine-learning-databases/covtype/covtype.data.gz', 'covtype.data.gz')\n",
    "    with gzip.open('covtype.data.gz', 'rb') as f_in:\n",
    "        with open('covtype.data', 'wb') as f_out:\n",
    "            shutil.copyfileobj(f_in, f_out)\n",
    "if not os.path.exists('covtype.info'):\n",
    "    urllib.request.urlretrieve('http://archive.ics.uci.edu/ml/machine-learning-databases/covtype/covtype.info', 'covtype.info')\n",
    "if not os.path.exists('old_covtype.info'):\n",
    "    urllib.request.urlretrieve('http://archive.ics.uci.edu/ml/machine-learning-databases/covtype/old_covtype.info', 'old_covtype.info')\n"
   ]
  },
  {
   "cell_type": "code",
   "execution_count": 1,
   "metadata": {},
   "outputs": [],
   "source": [
    "%matplotlib inline\n",
    "from pyspark.sql import SparkSession\n",
    "from pyspark.sql.functions import col\n",
    "\n",
    "spark = SparkSession.builder.appName('wine-quality').getOrCreate()"
   ]
  },
  {
   "cell_type": "code",
   "execution_count": 2,
   "metadata": {},
   "outputs": [
    {
     "name": "stdout",
     "output_type": "stream",
     "text": [
      "root\n",
      " |-- fixed acidity: double (nullable = true)\n",
      " |-- volatile acidity: double (nullable = true)\n",
      " |-- citric acid: double (nullable = true)\n",
      " |-- residual sugar: double (nullable = true)\n",
      " |-- chlorides: double (nullable = true)\n",
      " |-- free sulfur dioxide: double (nullable = true)\n",
      " |-- total sulfur dioxide: double (nullable = true)\n",
      " |-- density: double (nullable = true)\n",
      " |-- pH: double (nullable = true)\n",
      " |-- sulphates: double (nullable = true)\n",
      " |-- alcohol: double (nullable = true)\n",
      " |-- quality: integer (nullable = true)\n",
      "\n",
      "+-------------+----------------+-----------+--------------+---------+-------------------+--------------------+-------+----+---------+-------+-------+\n",
      "|fixed acidity|volatile acidity|citric acid|residual sugar|chlorides|free sulfur dioxide|total sulfur dioxide|density|  pH|sulphates|alcohol|quality|\n",
      "+-------------+----------------+-----------+--------------+---------+-------------------+--------------------+-------+----+---------+-------+-------+\n",
      "|          7.4|             0.7|        0.0|           1.9|    0.076|               11.0|                34.0| 0.9978|3.51|     0.56|    9.4|      5|\n",
      "|          7.8|            0.88|        0.0|           2.6|    0.098|               25.0|                67.0| 0.9968| 3.2|     0.68|    9.8|      5|\n",
      "|          7.8|            0.76|       0.04|           2.3|    0.092|               15.0|                54.0|  0.997|3.26|     0.65|    9.8|      5|\n",
      "|         11.2|            0.28|       0.56|           1.9|    0.075|               17.0|                60.0|  0.998|3.16|     0.58|    9.8|      6|\n",
      "|          7.4|             0.7|        0.0|           1.9|    0.076|               11.0|                34.0| 0.9978|3.51|     0.56|    9.4|      5|\n",
      "|          7.4|            0.66|        0.0|           1.8|    0.075|               13.0|                40.0| 0.9978|3.51|     0.56|    9.4|      5|\n",
      "|          7.9|             0.6|       0.06|           1.6|    0.069|               15.0|                59.0| 0.9964| 3.3|     0.46|    9.4|      5|\n",
      "|          7.3|            0.65|        0.0|           1.2|    0.065|               15.0|                21.0| 0.9946|3.39|     0.47|   10.0|      7|\n",
      "|          7.8|            0.58|       0.02|           2.0|    0.073|                9.0|                18.0| 0.9968|3.36|     0.57|    9.5|      7|\n",
      "|          7.5|             0.5|       0.36|           6.1|    0.071|               17.0|               102.0| 0.9978|3.35|      0.8|   10.5|      5|\n",
      "|          6.7|            0.58|       0.08|           1.8|    0.097|               15.0|                65.0| 0.9959|3.28|     0.54|    9.2|      5|\n",
      "|          7.5|             0.5|       0.36|           6.1|    0.071|               17.0|               102.0| 0.9978|3.35|      0.8|   10.5|      5|\n",
      "|          5.6|           0.615|        0.0|           1.6|    0.089|               16.0|                59.0| 0.9943|3.58|     0.52|    9.9|      5|\n",
      "|          7.8|            0.61|       0.29|           1.6|    0.114|                9.0|                29.0| 0.9974|3.26|     1.56|    9.1|      5|\n",
      "|          8.9|            0.62|       0.18|           3.8|    0.176|               52.0|               145.0| 0.9986|3.16|     0.88|    9.2|      5|\n",
      "|          8.9|            0.62|       0.19|           3.9|     0.17|               51.0|               148.0| 0.9986|3.17|     0.93|    9.2|      5|\n",
      "|          8.5|            0.28|       0.56|           1.8|    0.092|               35.0|               103.0| 0.9969| 3.3|     0.75|   10.5|      7|\n",
      "|          8.1|            0.56|       0.28|           1.7|    0.368|               16.0|                56.0| 0.9968|3.11|     1.28|    9.3|      5|\n",
      "|          7.4|            0.59|       0.08|           4.4|    0.086|                6.0|                29.0| 0.9974|3.38|      0.5|    9.0|      4|\n",
      "|          7.9|            0.32|       0.51|           1.8|    0.341|               17.0|                56.0| 0.9969|3.04|     1.08|    9.2|      6|\n",
      "+-------------+----------------+-----------+--------------+---------+-------------------+--------------------+-------+----+---------+-------+-------+\n",
      "only showing top 20 rows\n",
      "\n"
     ]
    },
    {
     "data": {
      "text/plain": [
       "1599"
      ]
     },
     "execution_count": 2,
     "metadata": {},
     "output_type": "execute_result"
    }
   ],
   "source": [
    "red = spark.read.option(\"delimiter\", \";\").csv('./winequality-red.csv', header='true', inferSchema='true')\n",
    "# white = spark.read.option(\"delimiter\", \";\").csv('./winequality-white.csv', header='true', inferSchema='true')\n",
    "\n",
    "red.printSchema()\n",
    "red.show()\n",
    "red.count()"
   ]
  },
  {
   "cell_type": "code",
   "execution_count": 3,
   "metadata": {},
   "outputs": [
    {
     "data": {
      "text/plain": [
       "308"
      ]
     },
     "execution_count": 3,
     "metadata": {},
     "output_type": "execute_result"
    }
   ],
   "source": [
    "train, test = red.randomSplit([0.8, 0.2])\n",
    "train.count()\n",
    "test.count()"
   ]
  },
  {
   "cell_type": "markdown",
   "metadata": {},
   "source": [
    "# Exploratory Data Analysis"
   ]
  },
  {
   "cell_type": "code",
   "execution_count": 4,
   "metadata": {},
   "outputs": [
    {
     "name": "stdout",
     "output_type": "stream",
     "text": [
      "+-------+------------------+\n",
      "|summary|           quality|\n",
      "+-------+------------------+\n",
      "|  count|              1291|\n",
      "|   mean| 5.649883810999225|\n",
      "| stddev|0.8087445925303085|\n",
      "|    min|                 3|\n",
      "|    max|                 8|\n",
      "+-------+------------------+\n",
      "\n",
      "+-------+-----+\n",
      "|quality|count|\n",
      "+-------+-----+\n",
      "|      3|    8|\n",
      "|      4|   40|\n",
      "|      5|  544|\n",
      "|      6|  518|\n",
      "|      7|  166|\n",
      "|      8|   15|\n",
      "+-------+-----+\n",
      "\n",
      "+------------------+\n",
      "| skewness(quality)|\n",
      "+------------------+\n",
      "|0.2164391673820304|\n",
      "+------------------+\n",
      "\n",
      "+-------------------+\n",
      "|  kurtosis(quality)|\n",
      "+-------------------+\n",
      "|0.27287039735852225|\n",
      "+-------------------+\n",
      "\n",
      "+---+---+---+\n",
      "|25%|50%|75%|\n",
      "+---+---+---+\n",
      "|5.0|6.0|6.0|\n",
      "+---+---+---+\n",
      "\n",
      "+------------------+\n",
      "| quality_freqItems|\n",
      "+------------------+\n",
      "|[8, 5, 4, 7, 3, 6]|\n",
      "+------------------+\n",
      "\n"
     ]
    }
   ],
   "source": [
    "from pyspark.sql.functions import kurtosis, skewness\n",
    "\n",
    "labelCol = 'quality'\n",
    "\n",
    "train.select(labelCol).describe().show()\n",
    "train.groupby(labelCol).count().orderBy(labelCol).show()\n",
    "\n",
    "train.agg(skewness(labelCol)).show()\n",
    "train.agg(kurtosis(labelCol)).show()\n",
    "# Last parameter is error tolerance\n",
    "quantile = train.approxQuantile(labelCol, [0.25, 0.50, 0.75], 0.05)\n",
    "quantileFrame = spark.createDataFrame([quantile], ['25%', '50%', '75%'])\n",
    "quantileFrame.show()\n",
    "train.stat.freqItems([labelCol], 0.1).show()"
   ]
  },
  {
   "cell_type": "code",
   "execution_count": 5,
   "metadata": {},
   "outputs": [
    {
     "data": {
      "text/plain": [
       "DataFrame[citric acid: double, count: bigint]"
      ]
     },
     "metadata": {},
     "output_type": "display_data"
    }
   ],
   "source": [
    "f = train.groupby('citric acid').count().orderBy('count')\n",
    "display(f)"
   ]
  },
  {
   "cell_type": "code",
   "execution_count": 6,
   "metadata": {},
   "outputs": [
    {
     "data": {
      "text/plain": [
       "<matplotlib.axes._subplots.AxesSubplot at 0x7fb4d5b80828>"
      ]
     },
     "execution_count": 6,
     "metadata": {},
     "output_type": "execute_result"
    },
    {
     "data": {
      "image/png": "[encoded data removed]",
      "text/plain": [
       "<Figure size 432x432 with 2 Axes>"
      ]
     },
     "metadata": {},
     "output_type": "display_data"
    }
   ],
   "source": [
    "from pyspark.ml.stat import Correlation\n",
    "from pyspark.ml.feature import VectorAssembler\n",
    "\n",
    "changedTrain = train.withColumn(labelCol+'Double', train[labelCol].cast(\"double\")).drop(labelCol)\n",
    "\n",
    "numericCols = changedTrain.columns\n",
    "\n",
    "corrAssembler = VectorAssembler(inputCols=numericCols, outputCol='corrFeatures')\n",
    "corrTrain = corrAssembler.transform(changedTrain)\n",
    "corrMat = Correlation.corr(corrTrain, 'corrFeatures').head()\n",
    "\n",
    "pdf = corrMat[0].toArray()\n",
    "\n",
    "import seaborn as sns\n",
    "import matplotlib.pyplot as plt\n",
    "\n",
    "plt.figure(figsize=(6,6))\n",
    "\n",
    "sns.heatmap(pdf, \n",
    "            xticklabels=numericCols,\n",
    "            yticklabels=numericCols)"
   ]
  },
  {
   "cell_type": "code",
   "execution_count": 18,
   "metadata": {},
   "outputs": [
    {
     "name": "stdout",
     "output_type": "stream",
     "text": [
      "-RECORD 0------------------------------------\n",
      " fixed acidity        | 1.7669397460428127   \n",
      " volatile acidity     | 0.18009570306818687  \n",
      " citric acid          | 0.1955616705247835   \n",
      " residual sugar       | 1.4085928011495565   \n",
      " chlorides            | 0.048515302685673174 \n",
      " free sulfur dioxide  | 10.576633961681802   \n",
      " total sulfur dioxide | 33.43566904343185    \n",
      " density              | 0.001918176495620... \n",
      " pH                   | 0.1576235684514594   \n",
      " sulphates            | 0.17072611122003725  \n",
      " alcohol              | 1.0755907491695182   \n",
      "\n"
     ]
    }
   ],
   "source": [
    "from pyspark.sql.functions import stddev_pop, var_pop\n",
    "\n",
    "cols = train.columns[:]\n",
    "cols.remove(labelCol)\n",
    "\n",
    "stddev_pops = [stddev_pop(column).alias(column) for column in cols]\n",
    "\n",
    "df = train.agg(*stddev_pops)\n",
    "df.show(truncate=True, vertical=True)"
   ]
  },
  {
   "cell_type": "code",
   "execution_count": 8,
   "metadata": {},
   "outputs": [],
   "source": [
    "%%script false\n",
    "from pyspark.ml.feature import PCA, StandardScaler, VectorAssembler\n",
    "from pyspark.ml import Pipeline\n",
    "\n",
    "cols = train.columns[:]\n",
    "cols.remove(labelCol)\n",
    "\n",
    "assembler = VectorAssembler(inputCols=cols, outputCol=\"assembledFeatures\")\n",
    "scalers = StandardScaler(inputCol=\"assembledFeatures\", outputCol=\"features\", withStd=True, withMean=True)\n",
    "pca = PCA(k=5, inputCol=\"features\", outputCol=\"pcaFeatures\")\n",
    "pipeline = Pipeline(stages=[assembler, scalers, pca])\n",
    "model = pipeline.fit(train)\n",
    "pcaTrain = model.transform(train)\n",
    "pcaTrain.select(\"features\", \"pcaFeatures\").show()"
   ]
  },
  {
   "cell_type": "markdown",
   "metadata": {},
   "source": [
    "There's some moderate correlation between 'citric acid' and 'fixed acidity', 'free sulfur dioxide' and 'total sulfur dioxide', 'fixed acidity' and 'density'"
   ]
  },
  {
   "cell_type": "code",
   "execution_count": 9,
   "metadata": {},
   "outputs": [
    {
     "data": {
      "text/plain": [
       "DataFrame[fixed acidity: double, volatile acidity: double, citric acid: double, residual sugar: double, chlorides: double, free sulfur dioxide: double, total sulfur dioxide: double, density: double, pH: double, sulphates: double, alcohol: double, quality: int]"
      ]
     },
     "execution_count": 9,
     "metadata": {},
     "output_type": "execute_result"
    }
   ],
   "source": [
    "train"
   ]
  },
  {
   "cell_type": "markdown",
   "metadata": {},
   "source": [
    "# Classifiers"
   ]
  },
  {
   "cell_type": "code",
   "execution_count": 10,
   "metadata": {},
   "outputs": [],
   "source": [
    "from pyspark.ml import Pipeline\n",
    "from pyspark.ml.tuning import CrossValidator, ParamGridBuilder\n",
    "from pyspark.ml.evaluation import MulticlassClassificationEvaluator\n",
    "import pandas as pd\n",
    "\n",
    "accuracyDataFrame = pd.DataFrame(columns=['Train', 'Test'])"
   ]
  },
  {
   "cell_type": "markdown",
   "metadata": {},
   "source": [
    "## Regressor"
   ]
  },
  {
   "cell_type": "code",
   "execution_count": 11,
   "metadata": {},
   "outputs": [
    {
     "data": {
      "text/html": [
       "<div>\n",
       "<style scoped>\n",
       "    .dataframe tbody tr th:only-of-type {\n",
       "        vertical-align: middle;\n",
       "    }\n",
       "\n",
       "    .dataframe tbody tr th {\n",
       "        vertical-align: top;\n",
       "    }\n",
       "\n",
       "    .dataframe thead th {\n",
       "        text-align: right;\n",
       "    }\n",
       "</style>\n",
       "<table border=\"1\" class=\"dataframe\">\n",
       "  <thead>\n",
       "    <tr style=\"text-align: right;\">\n",
       "      <th></th>\n",
       "      <th>Train</th>\n",
       "      <th>Test</th>\n",
       "    </tr>\n",
       "  </thead>\n",
       "  <tbody>\n",
       "    <tr>\n",
       "      <th>GBTRegressor</th>\n",
       "      <td>0.686031</td>\n",
       "      <td>0.375596</td>\n",
       "    </tr>\n",
       "  </tbody>\n",
       "</table>\n",
       "</div>"
      ],
      "text/plain": [
       "                 Train      Test\n",
       "GBTRegressor  0.686031  0.375596"
      ]
     },
     "execution_count": 11,
     "metadata": {},
     "output_type": "execute_result"
    }
   ],
   "source": [
    "# %%script false \n",
    "from pyspark.ml.regression import GBTRegressor\n",
    "from pyspark.ml import Pipeline\n",
    "from pyspark.ml.tuning import CrossValidator, ParamGridBuilder\n",
    "from pyspark.ml.evaluation import RegressionEvaluator\n",
    "\n",
    "cols = train.columns[:]\n",
    "cols.remove(labelCol)\n",
    "\n",
    "gbtRegressorTrain = train\n",
    "\n",
    "assembler = VectorAssembler(inputCols=cols, outputCol='features')\n",
    "regressor = GBTRegressor(labelCol='quality')\n",
    "pipeline = Pipeline(stages=[assembler, regressor])\n",
    "grid = ParamGridBuilder().addGrid(regressor.maxIter, [5, 10, 15]).build()\n",
    "crossval = CrossValidator(estimator=pipeline,\n",
    "                          estimatorParamMaps = grid,\n",
    "                          evaluator = RegressionEvaluator(labelCol='quality'),\n",
    "                          numFolds=10)\n",
    "model = crossval.fit(gbtRegressorTrain)\n",
    "gbtRegressorTrain = model.transform(gbtRegressorTrain)\n",
    "gbtRegressorTest = model.transform(test)\n",
    "\n",
    "evaluator = RegressionEvaluator(labelCol='quality')\n",
    "\n",
    "trainAccuracy = evaluator.evaluate(gbtRegressorTrain, {evaluator.metricName: \"r2\"})\n",
    "testAccuracy = evaluator.evaluate(gbtRegressorTest, {evaluator.metricName: \"r2\"})\n",
    "accuracyDataFrame.loc['GBTRegressor'] = [trainAccuracy, testAccuracy]\n",
    "accuracyDataFrame"
   ]
  },
  {
   "cell_type": "markdown",
   "metadata": {},
   "source": [
    "## RandomForestClassifier"
   ]
  },
  {
   "cell_type": "code",
   "execution_count": 12,
   "metadata": {},
   "outputs": [
    {
     "data": {
      "text/html": [
       "<div>\n",
       "<style scoped>\n",
       "    .dataframe tbody tr th:only-of-type {\n",
       "        vertical-align: middle;\n",
       "    }\n",
       "\n",
       "    .dataframe tbody tr th {\n",
       "        vertical-align: top;\n",
       "    }\n",
       "\n",
       "    .dataframe thead th {\n",
       "        text-align: right;\n",
       "    }\n",
       "</style>\n",
       "<table border=\"1\" class=\"dataframe\">\n",
       "  <thead>\n",
       "    <tr style=\"text-align: right;\">\n",
       "      <th></th>\n",
       "      <th>Train</th>\n",
       "      <th>Test</th>\n",
       "    </tr>\n",
       "  </thead>\n",
       "  <tbody>\n",
       "    <tr>\n",
       "      <th>GBTRegressor</th>\n",
       "      <td>0.686031</td>\n",
       "      <td>0.375596</td>\n",
       "    </tr>\n",
       "    <tr>\n",
       "      <th>RandomForestClassifier</th>\n",
       "      <td>0.701007</td>\n",
       "      <td>0.613636</td>\n",
       "    </tr>\n",
       "  </tbody>\n",
       "</table>\n",
       "</div>"
      ],
      "text/plain": [
       "                           Train      Test\n",
       "GBTRegressor            0.686031  0.375596\n",
       "RandomForestClassifier  0.701007  0.613636"
      ]
     },
     "execution_count": 12,
     "metadata": {},
     "output_type": "execute_result"
    }
   ],
   "source": [
    "from pyspark.ml.classification import RandomForestClassifier\n",
    "\n",
    "cols = train.columns[:]\n",
    "cols.remove(labelCol)\n",
    "\n",
    "randomForestClassifierTrain = train\n",
    "randomForestClassifierTest = test\n",
    "\n",
    "assembler = VectorAssembler(inputCols=cols, outputCol='features')\n",
    "classifier = RandomForestClassifier(labelCol='quality')\n",
    "pipeline = Pipeline(stages=[assembler, classifier])\n",
    "grid = ParamGridBuilder().addGrid(classifier.maxDepth, [3, 5])\\\n",
    "                         .addGrid(classifier.numTrees, [20, 50])\\\n",
    "                         .build()\n",
    "crossval = CrossValidator(estimator=pipeline,\n",
    "                          estimatorParamMaps = grid,\n",
    "                          evaluator = MulticlassClassificationEvaluator(labelCol='quality'),\n",
    "                          numFolds=10)\n",
    "model = crossval.fit(randomForestClassifierTrain)\n",
    "randomForestClassifierTrain = model.transform(randomForestClassifierTrain)\n",
    "randomForestClassifierTest = model.transform(randomForestClassifierTest)\n",
    "\n",
    "evaluator = MulticlassClassificationEvaluator(labelCol='quality')\n",
    "\n",
    "trainAccuracy = evaluator.evaluate(randomForestClassifierTrain, {evaluator.metricName: \"accuracy\"})\n",
    "testAccuracy = evaluator.evaluate(randomForestClassifierTest, {evaluator.metricName: \"accuracy\"})\n",
    "\n",
    "accuracyDataFrame.loc['RandomForestClassifier'] = [trainAccuracy, testAccuracy]\n",
    "accuracyDataFrame"
   ]
  },
  {
   "cell_type": "code",
   "execution_count": 13,
   "metadata": {},
   "outputs": [
    {
     "data": {
      "text/html": [
       "<div>\n",
       "<style scoped>\n",
       "    .dataframe tbody tr th:only-of-type {\n",
       "        vertical-align: middle;\n",
       "    }\n",
       "\n",
       "    .dataframe tbody tr th {\n",
       "        vertical-align: top;\n",
       "    }\n",
       "\n",
       "    .dataframe thead th {\n",
       "        text-align: right;\n",
       "    }\n",
       "</style>\n",
       "<table border=\"1\" class=\"dataframe\">\n",
       "  <thead>\n",
       "    <tr style=\"text-align: right;\">\n",
       "      <th></th>\n",
       "      <th>Train</th>\n",
       "      <th>Test</th>\n",
       "    </tr>\n",
       "  </thead>\n",
       "  <tbody>\n",
       "    <tr>\n",
       "      <th>GBTRegressor</th>\n",
       "      <td>0.686031</td>\n",
       "      <td>0.375596</td>\n",
       "    </tr>\n",
       "    <tr>\n",
       "      <th>RandomForestClassifier</th>\n",
       "      <td>0.701007</td>\n",
       "      <td>0.613636</td>\n",
       "    </tr>\n",
       "    <tr>\n",
       "      <th>LogisticRegression</th>\n",
       "      <td>0.582494</td>\n",
       "      <td>0.610390</td>\n",
       "    </tr>\n",
       "  </tbody>\n",
       "</table>\n",
       "</div>"
      ],
      "text/plain": [
       "                           Train      Test\n",
       "GBTRegressor            0.686031  0.375596\n",
       "RandomForestClassifier  0.701007  0.613636\n",
       "LogisticRegression      0.582494  0.610390"
      ]
     },
     "execution_count": 13,
     "metadata": {},
     "output_type": "execute_result"
    }
   ],
   "source": [
    "from pyspark.ml.classification import LogisticRegression\n",
    "\n",
    "cols = train.columns[:]\n",
    "cols.remove(labelCol)\n",
    "\n",
    "logisticRegressionTrain = train\n",
    "logisticRegressionTest = test\n",
    "\n",
    "assembler = VectorAssembler(inputCols=cols, outputCol='features')\n",
    "classifier = LogisticRegression(labelCol='quality')\n",
    "pipeline = Pipeline(stages=[assembler, classifier])\n",
    "grid = ParamGridBuilder().addGrid(classifier.regParam, [0.1, 0.15])\\\n",
    "                         .addGrid(classifier.maxIter, [100, 200, 300])\\\n",
    "                         .build()\n",
    "crossval = CrossValidator(estimator=pipeline,\n",
    "                          estimatorParamMaps = grid,\n",
    "                          evaluator = MulticlassClassificationEvaluator(labelCol='quality'),\n",
    "                          numFolds=10)\n",
    "model = crossval.fit(logisticRegressionTrain)\n",
    "logisticRegressionTrain = model.transform(logisticRegressionTrain)\n",
    "logisticRegressionTest = model.transform(logisticRegressionTest)\n",
    "\n",
    "evaluator = MulticlassClassificationEvaluator(labelCol='quality')\n",
    "\n",
    "trainAccuracy = evaluator.evaluate(logisticRegressionTrain, {evaluator.metricName: \"accuracy\"})\n",
    "testAccuracy = evaluator.evaluate(logisticRegressionTest, {evaluator.metricName: \"accuracy\"})\n",
    "\n",
    "accuracyDataFrame.loc['LogisticRegression'] = [trainAccuracy, testAccuracy]\n",
    "accuracyDataFrame"
   ]
  },
  {
   "cell_type": "markdown",
   "metadata": {},
   "source": [
    "## MultilayerPerceptronClassifier"
   ]
  },
  {
   "cell_type": "code",
   "execution_count": 14,
   "metadata": {},
   "outputs": [],
   "source": [
    "from pyspark.ml.pipeline import Estimator, Model, Pipeline\n",
    "from pyspark.ml.param.shared import *\n",
    "from pyspark.sql.functions import min\n",
    "\n",
    "class HasMin(Params):\n",
    "    minimum = Param(Params._dummy(), \"minimum\", \"minimum\")\n",
    "\n",
    "    def __init__(self):\n",
    "        super(HasMin, self).__init__()\n",
    "\n",
    "    def setMin(self, value):\n",
    "        return self._set(minimum=value)\n",
    "\n",
    "    def getMin(self):\n",
    "        return self.getOrDefault(self.minimum)\n",
    "\n",
    "class MinTransformation(Estimator, HasInputCol, \n",
    "        HasOutputCol, HasMin):\n",
    "\n",
    "    def _fit(self, dataset):\n",
    "        c = self.getInputCol()\n",
    "        self.minimum = dataset.agg(min(c)).first()[0]\n",
    "        return (MinTransformationModel()\n",
    "            .setInputCol(c)\n",
    "            .setMin(self.minimum)\n",
    "            .setOutputCol(self.getOutputCol()))\n",
    "\n",
    "class MinTransformationModel(Model, HasInputCol, HasOutputCol, HasMin):\n",
    "\n",
    "    def _transform(self, dataset):\n",
    "        x = self.getInputCol()\n",
    "        y = self.getOutputCol()\n",
    "        minimum = self.getMin()\n",
    "        meta = {'MinTransformation' : minimum}\n",
    "        return dataset.withColumn(y, (col(x) - minimum).alias(y, metadata=meta))\n",
    "\n",
    "class HasConst(Params):\n",
    "    const = Param(Params._dummy(), \"const\", \"const\")\n",
    "\n",
    "    def __init__(self):\n",
    "        super(HasConst, self).__init__()\n",
    "\n",
    "    def setConst(self, value):\n",
    "        return self._set(const=value)\n",
    "\n",
    "    def getConst(self):\n",
    "        return self.getOrDefault(self.const)\n",
    "\n",
    "class ConstTransformation(Estimator, HasInputCol, \n",
    "        HasOutputCol, HasConst):\n",
    "\n",
    "    def _fit(self, dataset):\n",
    "        c = self.getInputCol()\n",
    "        for f in dataset.schema.fields:\n",
    "            if 'MinTransformation' in f.metadata:\n",
    "                self.const = f.metadata['MinTransformation']\n",
    "                break\n",
    "        \n",
    "        return (ConstTransformationModel()\n",
    "            .setInputCol(c)\n",
    "            .setConst(self.const)\n",
    "            .setOutputCol(self.getOutputCol()))\n",
    "\n",
    "class ConstTransformationModel(Model, HasInputCol, HasOutputCol, HasConst):\n",
    "\n",
    "    def _transform(self, dataset):\n",
    "        x = self.getInputCol()\n",
    "        y = self.getOutputCol()\n",
    "        const = self.getConst()\n",
    "\n",
    "        return dataset.withColumn(y, col(x) + const)\n"
   ]
  },
  {
   "cell_type": "code",
   "execution_count": 15,
   "metadata": {},
   "outputs": [
    {
     "data": {
      "text/html": [
       "<div>\n",
       "<style scoped>\n",
       "    .dataframe tbody tr th:only-of-type {\n",
       "        vertical-align: middle;\n",
       "    }\n",
       "\n",
       "    .dataframe tbody tr th {\n",
       "        vertical-align: top;\n",
       "    }\n",
       "\n",
       "    .dataframe thead th {\n",
       "        text-align: right;\n",
       "    }\n",
       "</style>\n",
       "<table border=\"1\" class=\"dataframe\">\n",
       "  <thead>\n",
       "    <tr style=\"text-align: right;\">\n",
       "      <th></th>\n",
       "      <th>Train</th>\n",
       "      <th>Test</th>\n",
       "    </tr>\n",
       "  </thead>\n",
       "  <tbody>\n",
       "    <tr>\n",
       "      <th>GBTRegressor</th>\n",
       "      <td>0.686031</td>\n",
       "      <td>0.375596</td>\n",
       "    </tr>\n",
       "    <tr>\n",
       "      <th>RandomForestClassifier</th>\n",
       "      <td>0.701007</td>\n",
       "      <td>0.613636</td>\n",
       "    </tr>\n",
       "    <tr>\n",
       "      <th>LogisticRegression</th>\n",
       "      <td>0.582494</td>\n",
       "      <td>0.610390</td>\n",
       "    </tr>\n",
       "    <tr>\n",
       "      <th>MultilayerPerceptronClassifier</th>\n",
       "      <td>0.597211</td>\n",
       "      <td>0.587662</td>\n",
       "    </tr>\n",
       "  </tbody>\n",
       "</table>\n",
       "</div>"
      ],
      "text/plain": [
       "                                   Train      Test\n",
       "GBTRegressor                    0.686031  0.375596\n",
       "RandomForestClassifier          0.701007  0.613636\n",
       "LogisticRegression              0.582494  0.610390\n",
       "MultilayerPerceptronClassifier  0.597211  0.587662"
      ]
     },
     "execution_count": 15,
     "metadata": {},
     "output_type": "execute_result"
    }
   ],
   "source": [
    "from pyspark.ml.classification import MultilayerPerceptronClassifier\n",
    "\n",
    "cols = train.columns[:]\n",
    "cols.remove(labelCol)\n",
    "\n",
    "mlpClassifierTrain = train\n",
    "mlpClassifierTest = test\n",
    "\n",
    "minTransformation = MinTransformation().setInputCol('quality').setOutputCol('reQuality')\n",
    "assembler = VectorAssembler(inputCols=cols, outputCol='features')\n",
    "classifier = MultilayerPerceptronClassifier(labelCol='reQuality')\n",
    "constTransformation = ConstTransformation().setInputCol('prediction').setOutputCol('actualPrediction')\n",
    "\n",
    "pipeline = Pipeline(stages=[minTransformation, assembler, classifier, constTransformation])\n",
    "grid = ParamGridBuilder().addGrid(classifier.maxIter, [100, 200])\\\n",
    "                         .addGrid(classifier.layers, [[11, 10, 10, 6], [11, 20, 10, 6]])\\\n",
    "                         .build()\n",
    "crossval = CrossValidator(estimator=pipeline,\n",
    "                          estimatorParamMaps = grid,\n",
    "                          evaluator = MulticlassClassificationEvaluator(labelCol='quality', predictionCol='actualPrediction'),\n",
    "                          numFolds=10)\n",
    "\n",
    "model = crossval.fit(mlpClassifierTrain)\n",
    "mlpClassifierTrain = model.transform(mlpClassifierTrain)\n",
    "mlpClassifierTest = model.transform(mlpClassifierTest)\n",
    "\n",
    "evaluator = MulticlassClassificationEvaluator(labelCol='quality', predictionCol='actualPrediction')\n",
    "\n",
    "trainAccuracy = evaluator.evaluate(mlpClassifierTrain, {evaluator.metricName: \"accuracy\"})\n",
    "testAccuracy = evaluator.evaluate(mlpClassifierTest, {evaluator.metricName: \"accuracy\"})\n",
    "\n",
    "accuracyDataFrame.loc['MultilayerPerceptronClassifier'] = [trainAccuracy, testAccuracy]\n",
    "accuracyDataFrame"
   ]
  }
 ],
 "metadata": {
  "kernelspec": {
   "display_name": "Python 3",
   "language": "python",
   "name": "python3"
  },
  "language_info": {
   "codemirror_mode": {
    "name": "ipython",
    "version": 3
   },
   "file_extension": ".py",
   "mimetype": "text/x-python",
   "name": "python",
   "nbconvert_exporter": "python",
   "pygments_lexer": "ipython3",
   "version": "3.6.4"
  }
 },
 "nbformat": 4,
 "nbformat_minor": 2
}
