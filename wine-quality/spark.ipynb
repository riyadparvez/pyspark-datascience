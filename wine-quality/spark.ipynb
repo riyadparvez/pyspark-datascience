{
 "cells": [
  {
   "cell_type": "code",
   "execution_count": 1,
   "metadata": {},
   "outputs": [],
   "source": [
    "import os.path\n",
    "import urllib.request\n",
    "import gzip\n",
    "import shutil\n",
    "\n",
    "if not os.path.exists('winequality-red.csv'):\n",
    "    urllib.request.urlretrieve('https://archive.ics.uci.edu/ml/machine-learning-databases/wine-quality/winequality-red.csv', 'winequality-red.csv')\n",
    "if not os.path.exists('winequality-white.csv'):\n",
    "    urllib.request.urlretrieve('https://archive.ics.uci.edu/ml/machine-learning-databases/wine-quality/winequality-white.csv', 'winequality-white.csv')\n",
    "if not os.path.exists('winequality.names'):\n",
    "    urllib.request.urlretrieve('https://archive.ics.uci.edu/ml/machine-learning-databases/wine-quality/winequality.names', 'winequality.names')\n"
   ]
  },
  {
   "cell_type": "code",
   "execution_count": 2,
   "metadata": {},
   "outputs": [],
   "source": [
    "%matplotlib inline\n",
    "from pyspark.sql import SparkSession\n",
    "from pyspark.sql.functions import col\n",
    "\n",
    "spark = SparkSession.builder.appName('wine-quality').getOrCreate()"
   ]
  },
  {
   "cell_type": "code",
   "execution_count": 3,
   "metadata": {},
   "outputs": [
    {
     "name": "stdout",
     "output_type": "stream",
     "text": [
      "root\n",
      " |-- fixed acidity: double (nullable = true)\n",
      " |-- volatile acidity: double (nullable = true)\n",
      " |-- citric acid: double (nullable = true)\n",
      " |-- residual sugar: double (nullable = true)\n",
      " |-- chlorides: double (nullable = true)\n",
      " |-- free sulfur dioxide: double (nullable = true)\n",
      " |-- total sulfur dioxide: double (nullable = true)\n",
      " |-- density: double (nullable = true)\n",
      " |-- pH: double (nullable = true)\n",
      " |-- sulphates: double (nullable = true)\n",
      " |-- alcohol: double (nullable = true)\n",
      " |-- quality: integer (nullable = true)\n",
      "\n"
     ]
    },
    {
     "data": {
      "text/plain": [
       "1599"
      ]
     },
     "execution_count": 3,
     "metadata": {},
     "output_type": "execute_result"
    }
   ],
   "source": [
    "red = spark.read.option(\"delimiter\", \";\").csv('./winequality-red.csv', header='true', inferSchema='true')\n",
    "# white = spark.read.option(\"delimiter\", \";\").csv('./winequality-white.csv', header='true', inferSchema='true')\n",
    "\n",
    "red.printSchema()\n",
    "red.limit(20).toPandas()\n",
    "red.count()"
   ]
  },
  {
   "cell_type": "code",
   "execution_count": 4,
   "metadata": {},
   "outputs": [
    {
     "data": {
      "text/plain": [
       "310"
      ]
     },
     "execution_count": 4,
     "metadata": {},
     "output_type": "execute_result"
    }
   ],
   "source": [
    "train, test = red.randomSplit([0.8, 0.2])\n",
    "train.count()\n",
    "test.count()"
   ]
  },
  {
   "cell_type": "markdown",
   "metadata": {},
   "source": [
    "# Exploratory Data Analysis"
   ]
  },
  {
   "cell_type": "code",
   "execution_count": 5,
   "metadata": {},
   "outputs": [
    {
     "name": "stdout",
     "output_type": "stream",
     "text": [
      "+-------+------------------+\n",
      "|summary|           quality|\n",
      "+-------+------------------+\n",
      "|  count|              1289|\n",
      "|   mean| 5.624515128006206|\n",
      "| stddev|0.8134474036694035|\n",
      "|    min|                 3|\n",
      "|    max|                 8|\n",
      "+-------+------------------+\n",
      "\n",
      "+-------+-----+\n",
      "|quality|count|\n",
      "+-------+-----+\n",
      "|      3|    9|\n",
      "|      4|   46|\n",
      "|      5|  552|\n",
      "|      6|  510|\n",
      "|      7|  157|\n",
      "|      8|   15|\n",
      "+-------+-----+\n",
      "\n",
      "+-------------------+\n",
      "|  skewness(quality)|\n",
      "+-------------------+\n",
      "|0.20530447097177199|\n",
      "+-------------------+\n",
      "\n",
      "+------------------+\n",
      "| kurtosis(quality)|\n",
      "+------------------+\n",
      "|0.3382375383567986|\n",
      "+------------------+\n",
      "\n"
     ]
    },
    {
     "data": {
      "text/html": [
       "<div>\n",
       "<style scoped>\n",
       "    .dataframe tbody tr th:only-of-type {\n",
       "        vertical-align: middle;\n",
       "    }\n",
       "\n",
       "    .dataframe tbody tr th {\n",
       "        vertical-align: top;\n",
       "    }\n",
       "\n",
       "    .dataframe thead th {\n",
       "        text-align: right;\n",
       "    }\n",
       "</style>\n",
       "<table border=\"1\" class=\"dataframe\">\n",
       "  <thead>\n",
       "    <tr style=\"text-align: right;\">\n",
       "      <th></th>\n",
       "      <th>quality_freqItems</th>\n",
       "    </tr>\n",
       "  </thead>\n",
       "  <tbody>\n",
       "    <tr>\n",
       "      <th>0</th>\n",
       "      <td>[8, 5, 4, 7, 3, 6]</td>\n",
       "    </tr>\n",
       "  </tbody>\n",
       "</table>\n",
       "</div>"
      ],
      "text/plain": [
       "    quality_freqItems\n",
       "0  [8, 5, 4, 7, 3, 6]"
      ]
     },
     "execution_count": 5,
     "metadata": {},
     "output_type": "execute_result"
    }
   ],
   "source": [
    "from pyspark.sql.functions import kurtosis, skewness\n",
    "\n",
    "labelCol = 'quality'\n",
    "\n",
    "train.select(labelCol).describe().show()\n",
    "train.groupby(labelCol).count().orderBy(labelCol).show()\n",
    "\n",
    "train.agg(skewness(labelCol)).show()\n",
    "train.agg(kurtosis(labelCol)).show()\n",
    "# Last parameter is error tolerance\n",
    "quantile = train.approxQuantile(labelCol, [0.25, 0.50, 0.75], 0.05)\n",
    "quantileFrame = spark.createDataFrame([quantile], ['25%', '50%', '75%'])\n",
    "quantileFrame.toPandas()\n",
    "train.stat.freqItems([labelCol], 0.1).toPandas()"
   ]
  },
  {
   "cell_type": "code",
   "execution_count": 6,
   "metadata": {},
   "outputs": [
    {
     "data": {
      "text/plain": [
       "DataFrame[citric acid: double, count: bigint]"
      ]
     },
     "metadata": {},
     "output_type": "display_data"
    }
   ],
   "source": [
    "f = train.groupby('citric acid').count().orderBy('count')\n",
    "display(f)"
   ]
  },
  {
   "cell_type": "code",
   "execution_count": 7,
   "metadata": {},
   "outputs": [
    {
     "data": {
      "text/plain": [
       "<matplotlib.axes._subplots.AxesSubplot at 0x7ff56fed2b00>"
      ]
     },
     "execution_count": 7,
     "metadata": {},
     "output_type": "execute_result"
    },
    {
     "data": {
      "image/png": "[encoded data removed]",
      "text/plain": [
       "<Figure size 432x432 with 2 Axes>"
      ]
     },
     "metadata": {},
     "output_type": "display_data"
    }
   ],
   "source": [
    "from pyspark.ml.stat import Correlation\n",
    "from pyspark.ml.feature import VectorAssembler\n",
    "\n",
    "changedTrain = train.withColumn(labelCol+'Double', train[labelCol].cast(\"double\")).drop(labelCol)\n",
    "\n",
    "numericCols = changedTrain.columns\n",
    "\n",
    "corrAssembler = VectorAssembler(inputCols=numericCols, outputCol='corrFeatures')\n",
    "corrTrain = corrAssembler.transform(changedTrain)\n",
    "corrMat = Correlation.corr(corrTrain, 'corrFeatures').head()\n",
    "\n",
    "pdf = corrMat[0].toArray()\n",
    "\n",
    "import seaborn as sns\n",
    "import matplotlib.pyplot as plt\n",
    "\n",
    "plt.figure(figsize=(6,6))\n",
    "\n",
    "sns.heatmap(pdf, \n",
    "            xticklabels=numericCols,\n",
    "            yticklabels=numericCols)"
   ]
  },
  {
   "cell_type": "code",
   "execution_count": 8,
   "metadata": {},
   "outputs": [
    {
     "name": "stdout",
     "output_type": "stream",
     "text": [
      "-RECORD 0------------------------------------\n",
      " fixed acidity        | 1.7260515800449063   \n",
      " volatile acidity     | 0.17592070844713614  \n",
      " citric acid          | 0.19405022111459347  \n",
      " residual sugar       | 1.4011589194952896   \n",
      " chlorides            | 0.0454979495866834   \n",
      " free sulfur dioxide  | 10.561228531795269   \n",
      " total sulfur dioxide | 33.050508264844176   \n",
      " density              | 0.001865537614470935 \n",
      " pH                   | 0.15216410231782318  \n",
      " sulphates            | 0.17105970207291385  \n",
      " alcohol              | 1.0674133362495588   \n",
      "\n"
     ]
    }
   ],
   "source": [
    "from pyspark.sql.functions import stddev_pop, var_pop\n",
    "\n",
    "cols = train.columns[:]\n",
    "cols.remove(labelCol)\n",
    "\n",
    "stddev_pops = [stddev_pop(column).alias(column) for column in cols]\n",
    "\n",
    "df = train.agg(*stddev_pops)\n",
    "df.show(truncate=True, vertical=True)"
   ]
  },
  {
   "cell_type": "code",
   "execution_count": 9,
   "metadata": {},
   "outputs": [],
   "source": [
    "%%script false\n",
    "from pyspark.ml.feature import PCA, StandardScaler, VectorAssembler\n",
    "from pyspark.ml import Pipeline\n",
    "\n",
    "cols = train.columns[:]\n",
    "cols.remove(labelCol)\n",
    "\n",
    "assembler = VectorAssembler(inputCols=cols, outputCol=\"assembledFeatures\")\n",
    "scalers = StandardScaler(inputCol=\"assembledFeatures\", outputCol=\"features\", withStd=True, withMean=True)\n",
    "pca = PCA(k=5, inputCol=\"features\", outputCol=\"pcaFeatures\")\n",
    "pipeline = Pipeline(stages=[assembler, scalers, pca])\n",
    "model = pipeline.fit(train)\n",
    "pcaTrain = model.transform(train)\n",
    "pcaTrain.select(\"features\", \"pcaFeatures\").show()"
   ]
  },
  {
   "cell_type": "markdown",
   "metadata": {},
   "source": [
    "There's some moderate correlation between 'citric acid' and 'fixed acidity', 'free sulfur dioxide' and 'total sulfur dioxide', 'fixed acidity' and 'density'"
   ]
  },
  {
   "cell_type": "code",
   "execution_count": 10,
   "metadata": {},
   "outputs": [
    {
     "data": {
      "text/plain": [
       "DataFrame[fixed acidity: double, volatile acidity: double, citric acid: double, residual sugar: double, chlorides: double, free sulfur dioxide: double, total sulfur dioxide: double, density: double, pH: double, sulphates: double, alcohol: double, quality: int]"
      ]
     },
     "execution_count": 10,
     "metadata": {},
     "output_type": "execute_result"
    }
   ],
   "source": [
    "train"
   ]
  },
  {
   "cell_type": "markdown",
   "metadata": {},
   "source": [
    "# Classifiers"
   ]
  },
  {
   "cell_type": "code",
   "execution_count": 11,
   "metadata": {},
   "outputs": [],
   "source": [
    "from pyspark.ml import Pipeline\n",
    "from pyspark.ml.tuning import CrossValidator, ParamGridBuilder\n",
    "from pyspark.ml.evaluation import MulticlassClassificationEvaluator\n",
    "import pandas as pd\n",
    "\n",
    "accuracyDataFrame = pd.DataFrame(columns=['Train', 'Test'])"
   ]
  },
  {
   "cell_type": "markdown",
   "metadata": {},
   "source": [
    "## Regressor"
   ]
  },
  {
   "cell_type": "code",
   "execution_count": 12,
   "metadata": {},
   "outputs": [
    {
     "data": {
      "text/html": [
       "<div>\n",
       "<style scoped>\n",
       "    .dataframe tbody tr th:only-of-type {\n",
       "        vertical-align: middle;\n",
       "    }\n",
       "\n",
       "    .dataframe tbody tr th {\n",
       "        vertical-align: top;\n",
       "    }\n",
       "\n",
       "    .dataframe thead th {\n",
       "        text-align: right;\n",
       "    }\n",
       "</style>\n",
       "<table border=\"1\" class=\"dataframe\">\n",
       "  <thead>\n",
       "    <tr style=\"text-align: right;\">\n",
       "      <th></th>\n",
       "      <th>Train</th>\n",
       "      <th>Test</th>\n",
       "    </tr>\n",
       "  </thead>\n",
       "  <tbody>\n",
       "    <tr>\n",
       "      <th>GBTRegressor</th>\n",
       "      <td>0.69367</td>\n",
       "      <td>0.27675</td>\n",
       "    </tr>\n",
       "  </tbody>\n",
       "</table>\n",
       "</div>"
      ],
      "text/plain": [
       "                Train     Test\n",
       "GBTRegressor  0.69367  0.27675"
      ]
     },
     "execution_count": 12,
     "metadata": {},
     "output_type": "execute_result"
    }
   ],
   "source": [
    "# %%script false \n",
    "from pyspark.ml.regression import GBTRegressor\n",
    "from pyspark.ml import Pipeline\n",
    "from pyspark.ml.tuning import CrossValidator, ParamGridBuilder\n",
    "from pyspark.ml.evaluation import RegressionEvaluator\n",
    "\n",
    "cols = train.columns[:]\n",
    "cols.remove(labelCol)\n",
    "\n",
    "gbtRegressorTrain = train\n",
    "\n",
    "assembler = VectorAssembler(inputCols=cols, outputCol='features')\n",
    "regressor = GBTRegressor(labelCol='quality')\n",
    "pipeline = Pipeline(stages=[assembler, regressor])\n",
    "grid = ParamGridBuilder().addGrid(regressor.maxIter, [5, 10, 15]).build()\n",
    "crossval = CrossValidator(estimator=pipeline,\n",
    "                          estimatorParamMaps = grid,\n",
    "                          evaluator = RegressionEvaluator(labelCol='quality'),\n",
    "                          numFolds=10)\n",
    "model = crossval.fit(gbtRegressorTrain)\n",
    "gbtRegressorTrain = model.transform(gbtRegressorTrain)\n",
    "gbtRegressorTest = model.transform(test)\n",
    "\n",
    "evaluator = RegressionEvaluator(labelCol='quality')\n",
    "\n",
    "trainAccuracy = evaluator.evaluate(gbtRegressorTrain, {evaluator.metricName: \"r2\"})\n",
    "testAccuracy = evaluator.evaluate(gbtRegressorTest, {evaluator.metricName: \"r2\"})\n",
    "accuracyDataFrame.loc['GBTRegressor'] = [trainAccuracy, testAccuracy]\n",
    "accuracyDataFrame"
   ]
  },
  {
   "cell_type": "markdown",
   "metadata": {},
   "source": [
    "## RandomForestClassifier"
   ]
  },
  {
   "cell_type": "code",
   "execution_count": 13,
   "metadata": {},
   "outputs": [
    {
     "data": {
      "text/html": [
       "<div>\n",
       "<style scoped>\n",
       "    .dataframe tbody tr th:only-of-type {\n",
       "        vertical-align: middle;\n",
       "    }\n",
       "\n",
       "    .dataframe tbody tr th {\n",
       "        vertical-align: top;\n",
       "    }\n",
       "\n",
       "    .dataframe thead th {\n",
       "        text-align: right;\n",
       "    }\n",
       "</style>\n",
       "<table border=\"1\" class=\"dataframe\">\n",
       "  <thead>\n",
       "    <tr style=\"text-align: right;\">\n",
       "      <th></th>\n",
       "      <th>Train</th>\n",
       "      <th>Test</th>\n",
       "    </tr>\n",
       "  </thead>\n",
       "  <tbody>\n",
       "    <tr>\n",
       "      <th>GBTRegressor</th>\n",
       "      <td>0.693670</td>\n",
       "      <td>0.276750</td>\n",
       "    </tr>\n",
       "    <tr>\n",
       "      <th>RandomForestClassifier</th>\n",
       "      <td>0.698991</td>\n",
       "      <td>0.616129</td>\n",
       "    </tr>\n",
       "  </tbody>\n",
       "</table>\n",
       "</div>"
      ],
      "text/plain": [
       "                           Train      Test\n",
       "GBTRegressor            0.693670  0.276750\n",
       "RandomForestClassifier  0.698991  0.616129"
      ]
     },
     "execution_count": 13,
     "metadata": {},
     "output_type": "execute_result"
    }
   ],
   "source": [
    "from pyspark.ml.classification import RandomForestClassifier\n",
    "\n",
    "cols = train.columns[:]\n",
    "cols.remove(labelCol)\n",
    "\n",
    "randomForestClassifierTrain = train\n",
    "randomForestClassifierTest = test\n",
    "\n",
    "assembler = VectorAssembler(inputCols=cols, outputCol='features')\n",
    "classifier = RandomForestClassifier(labelCol='quality')\n",
    "pipeline = Pipeline(stages=[assembler, classifier])\n",
    "grid = ParamGridBuilder().addGrid(classifier.maxDepth, [3, 5])\\\n",
    "                         .addGrid(classifier.numTrees, [20, 50])\\\n",
    "                         .build()\n",
    "crossval = CrossValidator(estimator=pipeline,\n",
    "                          estimatorParamMaps = grid,\n",
    "                          evaluator = MulticlassClassificationEvaluator(labelCol='quality'),\n",
    "                          numFolds=10)\n",
    "model = crossval.fit(randomForestClassifierTrain)\n",
    "randomForestClassifierTrain = model.transform(randomForestClassifierTrain)\n",
    "randomForestClassifierTest = model.transform(randomForestClassifierTest)\n",
    "\n",
    "evaluator = MulticlassClassificationEvaluator(labelCol='quality')\n",
    "\n",
    "trainAccuracy = evaluator.evaluate(randomForestClassifierTrain, {evaluator.metricName: \"accuracy\"})\n",
    "testAccuracy = evaluator.evaluate(randomForestClassifierTest, {evaluator.metricName: \"accuracy\"})\n",
    "\n",
    "accuracyDataFrame.loc['RandomForestClassifier'] = [trainAccuracy, testAccuracy]\n",
    "accuracyDataFrame"
   ]
  },
  {
   "cell_type": "code",
   "execution_count": 14,
   "metadata": {},
   "outputs": [
    {
     "data": {
      "text/html": [
       "<div>\n",
       "<style scoped>\n",
       "    .dataframe tbody tr th:only-of-type {\n",
       "        vertical-align: middle;\n",
       "    }\n",
       "\n",
       "    .dataframe tbody tr th {\n",
       "        vertical-align: top;\n",
       "    }\n",
       "\n",
       "    .dataframe thead th {\n",
       "        text-align: right;\n",
       "    }\n",
       "</style>\n",
       "<table border=\"1\" class=\"dataframe\">\n",
       "  <thead>\n",
       "    <tr style=\"text-align: right;\">\n",
       "      <th></th>\n",
       "      <th>Train</th>\n",
       "      <th>Test</th>\n",
       "    </tr>\n",
       "  </thead>\n",
       "  <tbody>\n",
       "    <tr>\n",
       "      <th>GBTRegressor</th>\n",
       "      <td>0.693670</td>\n",
       "      <td>0.276750</td>\n",
       "    </tr>\n",
       "    <tr>\n",
       "      <th>RandomForestClassifier</th>\n",
       "      <td>0.698991</td>\n",
       "      <td>0.616129</td>\n",
       "    </tr>\n",
       "    <tr>\n",
       "      <th>LogisticRegression</th>\n",
       "      <td>0.589604</td>\n",
       "      <td>0.570968</td>\n",
       "    </tr>\n",
       "  </tbody>\n",
       "</table>\n",
       "</div>"
      ],
      "text/plain": [
       "                           Train      Test\n",
       "GBTRegressor            0.693670  0.276750\n",
       "RandomForestClassifier  0.698991  0.616129\n",
       "LogisticRegression      0.589604  0.570968"
      ]
     },
     "execution_count": 14,
     "metadata": {},
     "output_type": "execute_result"
    }
   ],
   "source": [
    "from pyspark.ml.classification import LogisticRegression\n",
    "\n",
    "cols = train.columns[:]\n",
    "cols.remove(labelCol)\n",
    "\n",
    "logisticRegressionTrain = train\n",
    "logisticRegressionTest = test\n",
    "\n",
    "assembler = VectorAssembler(inputCols=cols, outputCol='features')\n",
    "classifier = LogisticRegression(labelCol='quality')\n",
    "pipeline = Pipeline(stages=[assembler, classifier])\n",
    "grid = ParamGridBuilder().addGrid(classifier.regParam, [0.1, 0.15])\\\n",
    "                         .addGrid(classifier.maxIter, [100, 200, 300])\\\n",
    "                         .build()\n",
    "crossval = CrossValidator(estimator=pipeline,\n",
    "                          estimatorParamMaps = grid,\n",
    "                          evaluator = MulticlassClassificationEvaluator(labelCol='quality'),\n",
    "                          numFolds=10)\n",
    "model = crossval.fit(logisticRegressionTrain)\n",
    "logisticRegressionTrain = model.transform(logisticRegressionTrain)\n",
    "logisticRegressionTest = model.transform(logisticRegressionTest)\n",
    "\n",
    "evaluator = MulticlassClassificationEvaluator(labelCol='quality')\n",
    "\n",
    "trainAccuracy = evaluator.evaluate(logisticRegressionTrain, {evaluator.metricName: \"accuracy\"})\n",
    "testAccuracy = evaluator.evaluate(logisticRegressionTest, {evaluator.metricName: \"accuracy\"})\n",
    "\n",
    "accuracyDataFrame.loc['LogisticRegression'] = [trainAccuracy, testAccuracy]\n",
    "accuracyDataFrame"
   ]
  },
  {
   "cell_type": "markdown",
   "metadata": {},
   "source": [
    "## MultilayerPerceptronClassifier"
   ]
  },
  {
   "cell_type": "code",
   "execution_count": 15,
   "metadata": {},
   "outputs": [],
   "source": [
    "from pyspark.ml.pipeline import Estimator, Model, Pipeline\n",
    "from pyspark.ml.param.shared import *\n",
    "from pyspark.sql.functions import min\n",
    "\n",
    "class HasMin(Params):\n",
    "    minimum = Param(Params._dummy(), \"minimum\", \"minimum\")\n",
    "\n",
    "    def __init__(self):\n",
    "        super(HasMin, self).__init__()\n",
    "\n",
    "    def setMin(self, value):\n",
    "        return self._set(minimum=value)\n",
    "\n",
    "    def getMin(self):\n",
    "        return self.getOrDefault(self.minimum)\n",
    "\n",
    "class MinTransformation(Estimator, HasInputCol, \n",
    "        HasOutputCol, HasMin):\n",
    "\n",
    "    def _fit(self, dataset):\n",
    "        c = self.getInputCol()\n",
    "        self.minimum = dataset.agg(min(c)).first()[0]\n",
    "        return (MinTransformationModel()\n",
    "            .setInputCol(c)\n",
    "            .setMin(self.minimum)\n",
    "            .setOutputCol(self.getOutputCol()))\n",
    "\n",
    "class MinTransformationModel(Model, HasInputCol, HasOutputCol, HasMin):\n",
    "\n",
    "    def _transform(self, dataset):\n",
    "        x = self.getInputCol()\n",
    "        y = self.getOutputCol()\n",
    "        minimum = self.getMin()\n",
    "        meta = {'MinTransformation' : minimum}\n",
    "        return dataset.withColumn(y, (col(x) - minimum).alias(y, metadata=meta))\n",
    "\n",
    "class HasConst(Params):\n",
    "    const = Param(Params._dummy(), \"const\", \"const\")\n",
    "\n",
    "    def __init__(self):\n",
    "        super(HasConst, self).__init__()\n",
    "\n",
    "    def setConst(self, value):\n",
    "        return self._set(const=value)\n",
    "\n",
    "    def getConst(self):\n",
    "        return self.getOrDefault(self.const)\n",
    "\n",
    "class ConstTransformation(Estimator, HasInputCol, \n",
    "        HasOutputCol, HasConst):\n",
    "\n",
    "    def _fit(self, dataset):\n",
    "        c = self.getInputCol()\n",
    "        for f in dataset.schema.fields:\n",
    "            if 'MinTransformation' in f.metadata:\n",
    "                self.const = f.metadata['MinTransformation']\n",
    "                break\n",
    "        \n",
    "        return (ConstTransformationModel()\n",
    "            .setInputCol(c)\n",
    "            .setConst(self.const)\n",
    "            .setOutputCol(self.getOutputCol()))\n",
    "\n",
    "class ConstTransformationModel(Model, HasInputCol, HasOutputCol, HasConst):\n",
    "\n",
    "    def _transform(self, dataset):\n",
    "        x = self.getInputCol()\n",
    "        y = self.getOutputCol()\n",
    "        const = self.getConst()\n",
    "\n",
    "        return dataset.withColumn(y, col(x) + const)\n"
   ]
  },
  {
   "cell_type": "code",
   "execution_count": null,
   "metadata": {},
   "outputs": [],
   "source": [
    "from pyspark.ml.classification import MultilayerPerceptronClassifier\n",
    "\n",
    "cols = train.columns[:]\n",
    "cols.remove(labelCol)\n",
    "\n",
    "mlpClassifierTrain = train\n",
    "mlpClassifierTest = test\n",
    "\n",
    "minTransformation = MinTransformation().setInputCol('quality').setOutputCol('reQuality')\n",
    "assembler = VectorAssembler(inputCols=cols, outputCol='features')\n",
    "classifier = MultilayerPerceptronClassifier(labelCol='reQuality')\n",
    "constTransformation = ConstTransformation().setInputCol('prediction').setOutputCol('actualPrediction')\n",
    "\n",
    "pipeline = Pipeline(stages=[minTransformation, assembler, classifier, constTransformation])\n",
    "grid = ParamGridBuilder().addGrid(classifier.maxIter, [100, 200])\\\n",
    "                         .addGrid(classifier.layers, [[11, 10, 10, 6], [11, 20, 10, 6]])\\\n",
    "                         .build()\n",
    "crossval = CrossValidator(estimator=pipeline,\n",
    "                          estimatorParamMaps = grid,\n",
    "                          evaluator = MulticlassClassificationEvaluator(labelCol='quality', predictionCol='actualPrediction'),\n",
    "                          numFolds=10)\n",
    "\n",
    "model = crossval.fit(mlpClassifierTrain)\n",
    "mlpClassifierTrain = model.transform(mlpClassifierTrain)\n",
    "mlpClassifierTest = model.transform(mlpClassifierTest)\n",
    "\n",
    "evaluator = MulticlassClassificationEvaluator(labelCol='quality', predictionCol='actualPrediction')\n",
    "\n",
    "trainAccuracy = evaluator.evaluate(mlpClassifierTrain, {evaluator.metricName: \"accuracy\"})\n",
    "testAccuracy = evaluator.evaluate(mlpClassifierTest, {evaluator.metricName: \"accuracy\"})\n",
    "\n",
    "accuracyDataFrame.loc['MultilayerPerceptronClassifier'] = [trainAccuracy, testAccuracy]\n",
    "accuracyDataFrame"
   ]
  }
 ],
 "metadata": {
  "kernelspec": {
   "display_name": "Python 3",
   "language": "python",
   "name": "python3"
  },
  "language_info": {
   "codemirror_mode": {
    "name": "ipython",
    "version": 3
   },
   "file_extension": ".py",
   "mimetype": "text/x-python",
   "name": "python",
   "nbconvert_exporter": "python",
   "pygments_lexer": "ipython3",
   "version": "3.6.4"
  }
 },
 "nbformat": 4,
 "nbformat_minor": 2
}
