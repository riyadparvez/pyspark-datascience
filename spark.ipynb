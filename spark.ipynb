{
 "cells": [
  {
   "cell_type": "code",
   "execution_count": 1,
   "metadata": {},
   "outputs": [],
   "source": [
    "from pyspark.sql import SparkSession\n",
    "from utils.pysparkutils import *\n",
    "\n",
    "spark = SparkSession.builder.appName('test').getOrCreate()"
   ]
  },
  {
   "cell_type": "code",
   "execution_count": 2,
   "metadata": {},
   "outputs": [
    {
     "data": {
      "text/plain": [
       "[('a', 1), ('b', 2)]"
      ]
     },
     "execution_count": 2,
     "metadata": {},
     "output_type": "execute_result"
    }
   ],
   "source": [
    "ddd = {'a': 1, 'b': 2}\n",
    "d = FrozenDict(ddd)\n",
    "list(d.items())"
   ]
  },
  {
   "cell_type": "code",
   "execution_count": 3,
   "metadata": {},
   "outputs": [],
   "source": [
    "from pyspark.sql.types import DoubleType\n",
    "from pyspark.sql.functions import format_number\n",
    "\n",
    "def crosstabPercentage(df, col1, col2):\n",
    "    ctabDf = df.crosstab(col1, col2)\n",
    "    ctabCol = col1 + '_' + col2\n",
    "    ctabNewCol = col1 + col2.title()\n",
    "    ctabDf = ctabDf.withColumn(ctabNewCol, ctabDf[ctabCol])\\\n",
    "                                         .orderBy(ctabNewCol).drop(ctabCol)\n",
    "    # Strip extra whitespaces from column name\n",
    "    for column in ctabDf.columns:\n",
    "        columnStripped = column.strip()\n",
    "        if column != columnStripped:\n",
    "            ctabDf = ctabDf.withColumn(column.strip(), ctabDf[column])\\\n",
    "                                         .drop(column)\n",
    "    cols = ctabDf.columns[:]\n",
    "    cols.remove(ctabNewCol)\n",
    "    ctabDf = ctabDf.select(ctabNewCol, *cols)\n",
    "    ctabDf.show()"
   ]
  },
  {
   "cell_type": "code",
   "execution_count": 4,
   "metadata": {},
   "outputs": [],
   "source": [
    "%%script false\n",
    "\n",
    "from pyspark.sql.functions import pandas_udf\n",
    "from pyspark.sql.functions import PandasUDFType\n",
    "\n",
    "from pyspark.sql.types import *\n",
    "import pandas as pd\n",
    "\n",
    "df = spark.createDataFrame([\n",
    "    (\"a\", 0), (\"a\", 1), (\"b\", 30), (\"b\", -50)\n",
    "], [\"group\", \"power\"])\n",
    "\n",
    "def below_threshold(group=\"group\", power=\"power\"):\n",
    "    @pandas_udf(\"struct<group: string, sum: int>\", PandasUDFType.GROUPED_MAP)\n",
    "    def below_threshold_(df):\n",
    "        df = pd.DataFrame(\n",
    "           df.groupby(group).apply(df[power].sum()))\n",
    "        df.reset_index(inplace=True, drop=False)\n",
    "        return df\n",
    "\n",
    "    return below_threshold_\n",
    "\n",
    "df.groupBy(\"group\").apply(below_threshold()).show()"
   ]
  },
  {
   "cell_type": "code",
   "execution_count": 5,
   "metadata": {},
   "outputs": [
    {
     "data": {
      "text/plain": [
       "0.5297061990576546"
      ]
     },
     "execution_count": 5,
     "metadata": {},
     "output_type": "execute_result"
    }
   ],
   "source": [
    "from pyspark.sql.functions import col, countDistinct, lit\n",
    "from pyspark.ml.linalg import Vectors\n",
    "import math\n",
    "import scipy.stats\n",
    "from utils.pysparkutils import *\n",
    "\n",
    "df = spark.createDataFrame([\n",
    "    (\"a\", 0), \n",
    "    (\"a\", 1), \n",
    "    (\"b\", 30), \n",
    "    (\"b\", 30), \n",
    "    (\"b\", 30), \n",
    "    (\"b\", 30), \n",
    "    (\"b\", 30), \n",
    "    (\"b\", 30), \n",
    "    (\"b\", -50),\n",
    "], [\"group\", \"power\"])\n",
    "\n",
    "# calcIndividualAndJointPorbablities(df, 'group', 'power')\n",
    "calcMutualInformation(df, 'group', 'power')"
   ]
  },
  {
   "cell_type": "code",
   "execution_count": 6,
   "metadata": {},
   "outputs": [],
   "source": [
    "# from pyspark.sql.window import Window\n",
    "# from pyspark.sql.functions import count, rank, min\n",
    "\n",
    "# windowSpec =  Window.orderBy('id2', 'id3')\n",
    "# windowSpec = windowSpec.rowsBetween(Window.unboundedPreceding, Window.currentRow)\n",
    "# # df.select(count('id3').over(w).alias('count')).show()\n",
    "# df.select(min(labelCol).over(w)).show()\n",
    "\n",
    "# df.crosstab(\"id1\", \"id2\").show()\n",
    "# crosstabPercentage(df, \"id1\", \"id2\")\n",
    "\n",
    "# df2 = df.groupby(labelCol, \"id2\").count()\n",
    "# count = df.count()\n",
    "# df2.withColumn('percentage', col('count') / count).show()"
   ]
  },
  {
   "cell_type": "code",
   "execution_count": 7,
   "metadata": {},
   "outputs": [
    {
     "data": {
      "text/plain": [
       "<pyspark.sql.group.GroupedData at 0x7f61a292f320>"
      ]
     },
     "execution_count": 7,
     "metadata": {},
     "output_type": "execute_result"
    }
   ],
   "source": [
    "grouped = df.groupby(\"id\")\n",
    "grouped"
   ]
  },
  {
   "cell_type": "code",
   "execution_count": 8,
   "metadata": {},
   "outputs": [
    {
     "ename": "SyntaxError",
     "evalue": "invalid syntax (<ipython-input-8-0eb7437abb25>, line 1)",
     "output_type": "error",
     "traceback": [
      "\u001b[0;36m  File \u001b[0;32m\"<ipython-input-8-0eb7437abb25>\"\u001b[0;36m, line \u001b[0;32m1\u001b[0m\n\u001b[0;31m    grouped.\u001b[0m\n\u001b[0m            ^\u001b[0m\n\u001b[0;31mSyntaxError\u001b[0m\u001b[0;31m:\u001b[0m invalid syntax\n"
     ]
    }
   ],
   "source": [
    "grouped."
   ]
  },
  {
   "cell_type": "code",
   "execution_count": null,
   "metadata": {},
   "outputs": [],
   "source": []
  }
 ],
 "metadata": {
  "kernelspec": {
   "display_name": "Python 3",
   "language": "python",
   "name": "python3"
  },
  "language_info": {
   "codemirror_mode": {
    "name": "ipython",
    "version": 3
   },
   "file_extension": ".py",
   "mimetype": "text/x-python",
   "name": "python",
   "nbconvert_exporter": "python",
   "pygments_lexer": "ipython3",
   "version": "3.6.4"
  }
 },
 "nbformat": 4,
 "nbformat_minor": 2
}
